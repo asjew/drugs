{
 "cells": [
  {
   "cell_type": "markdown",
   "id": "f236ad98",
   "metadata": {},
   "source": [
    "### CODE ADAPTED FROM https://towardsdatascience.com/web-scraping-scraping-table-data-1665b6b2271c"
   ]
  },
  {
   "cell_type": "code",
   "execution_count": 1,
   "id": "9417574e",
   "metadata": {},
   "outputs": [],
   "source": [
    "from bs4 import BeautifulSoup\n",
    "import requests\n",
    "import pandas as pd\n",
    "import re\n",
    "import numpy as np"
   ]
  },
  {
   "cell_type": "markdown",
   "id": "f7fec4b3",
   "metadata": {},
   "source": [
    "### Scraping 2006 to 2018 data"
   ]
  },
  {
   "cell_type": "code",
   "execution_count": 2,
   "id": "7b39b3de",
   "metadata": {},
   "outputs": [
    {
     "name": "stdout",
     "output_type": "stream",
     "text": [
      "<class 'list'>\n",
      "<class 'list'>\n",
      "<class 'list'>\n",
      "<class 'list'>\n",
      "<class 'list'>\n",
      "<class 'list'>\n",
      "<class 'list'>\n",
      "<class 'list'>\n",
      "<class 'list'>\n",
      "<class 'list'>\n",
      "<class 'list'>\n",
      "<class 'list'>\n",
      "<class 'list'>\n"
     ]
    }
   ],
   "source": [
    "url = \"https://www.cdc.gov/drugoverdose/rxrate-maps/county2006.html\"\n",
    "\n",
    "column_names = [\"Year\", \"County\", \"State\", \"County FIPS Code\", \"Opioid Dispensing Rate per 100\"]\n",
    "\n",
    "opioidrate_06_18_df = pd.DataFrame(columns = column_names)\n",
    "\n",
    "for year in range(2006, 2019):\n",
    "    url = re.sub(r\"\\d+\", str(year), url)\n",
    "    \n",
    "    \n",
    "    # Make a GET request to fetch the raw HTML content\n",
    "    html_content = requests.get(url).text\n",
    "\n",
    "    # Parse HTML code for the entire site\n",
    "    soup = BeautifulSoup(html_content, \"lxml\")\n",
    "    opioid_table = soup.find_all(\"table\")\n",
    "    \n",
    "    # Lets go ahead and scrape first table with HTML code gdp[0]\n",
    "    table = opioid_table[0]\n",
    "    # the head will form our column names\n",
    "    body = table.find_all(\"tr\")\n",
    "    # Head values (Column names) are the first items of the body list\n",
    "#     head = body[0]\n",
    "    \n",
    "    body_rows = body[1:] # All other items becomes the rest of the rows\n",
    "    \n",
    "#     # Declare empty list to keep Columns names\n",
    "#     headings = []\n",
    "#     for item in head.find_all(\"th\"): # loop through all th elements\n",
    "#         # convert the th elements to text and strip \"\\n\"\n",
    "#         item = (item.text).rstrip(\"\\n\")\n",
    "#         # append the clean column name to headings\n",
    "#         headings.append(item)\n",
    "    \n",
    "    all_rows = [] # will be a list for list for all rows\n",
    "    for row_num in range(len(body_rows)): # A row at a time\n",
    "        row = [] # this will old entries for one row\n",
    "        for row_item in body_rows[row_num].find_all(\"td\"): #loop through all row entries\n",
    "            # row_item.text removes the tags from the entries\n",
    "            # the following regex is to remove \\xa0 and \\n and comma from row_item.text\n",
    "            # xa0 encodes the flag, \\n is the newline and comma separates thousands in numbers\n",
    "            aa = re.sub(\"(\\xa0)|(\\n)|\",\"\",row_item.text)\n",
    "            #append aa to row - note one row entry is being appended\n",
    "            row.append(aa)\n",
    "        # append one row to all_rows\n",
    "        row.insert(0, year)\n",
    "        all_rows.append(row)\n",
    "    \n",
    "    print(type(all_rows))\n",
    "    year_df = pd.DataFrame(data=all_rows, columns=opioidrate_06_18_df.columns)\n",
    "    opioidrate_06_18_df = opioidrate_06_18_df.append(year_df)"
   ]
  },
  {
   "cell_type": "code",
   "execution_count": 3,
   "id": "257c894d",
   "metadata": {},
   "outputs": [],
   "source": [
    "# Removing state abbreviation from County column\n",
    "opioidrate_06_18_df['County'] = opioidrate_06_18_df['County'].str.split(',').str[0]"
   ]
  },
  {
   "cell_type": "code",
   "execution_count": 4,
   "id": "a61fe0d8",
   "metadata": {},
   "outputs": [],
   "source": [
    "# Making County column title case\n",
    "opioidrate_06_18_df['County'] = opioidrate_06_18_df['County'].str.title()"
   ]
  },
  {
   "cell_type": "code",
   "execution_count": 5,
   "id": "92e8d016",
   "metadata": {},
   "outputs": [
    {
     "data": {
      "text/html": [
       "<div>\n",
       "<style scoped>\n",
       "    .dataframe tbody tr th:only-of-type {\n",
       "        vertical-align: middle;\n",
       "    }\n",
       "\n",
       "    .dataframe tbody tr th {\n",
       "        vertical-align: top;\n",
       "    }\n",
       "\n",
       "    .dataframe thead th {\n",
       "        text-align: right;\n",
       "    }\n",
       "</style>\n",
       "<table border=\"1\" class=\"dataframe\">\n",
       "  <thead>\n",
       "    <tr style=\"text-align: right;\">\n",
       "      <th></th>\n",
       "      <th>Year</th>\n",
       "      <th>County</th>\n",
       "      <th>State</th>\n",
       "      <th>County FIPS Code</th>\n",
       "      <th>Opioid Dispensing Rate per 100</th>\n",
       "    </tr>\n",
       "  </thead>\n",
       "  <tbody>\n",
       "    <tr>\n",
       "      <th>0</th>\n",
       "      <td>2006</td>\n",
       "      <td>Aleutians East</td>\n",
       "      <td>AK</td>\n",
       "      <td>02013</td>\n",
       "      <td>–</td>\n",
       "    </tr>\n",
       "    <tr>\n",
       "      <th>1</th>\n",
       "      <td>2006</td>\n",
       "      <td>Aleutians West</td>\n",
       "      <td>AK</td>\n",
       "      <td>02016</td>\n",
       "      <td>–</td>\n",
       "    </tr>\n",
       "    <tr>\n",
       "      <th>2</th>\n",
       "      <td>2006</td>\n",
       "      <td>Anchorage</td>\n",
       "      <td>AK</td>\n",
       "      <td>02020</td>\n",
       "      <td>71.5</td>\n",
       "    </tr>\n",
       "    <tr>\n",
       "      <th>3</th>\n",
       "      <td>2006</td>\n",
       "      <td>Bethel</td>\n",
       "      <td>AK</td>\n",
       "      <td>02050</td>\n",
       "      <td>–</td>\n",
       "    </tr>\n",
       "    <tr>\n",
       "      <th>4</th>\n",
       "      <td>2006</td>\n",
       "      <td>Bristol Bay</td>\n",
       "      <td>AK</td>\n",
       "      <td>02060</td>\n",
       "      <td>–</td>\n",
       "    </tr>\n",
       "    <tr>\n",
       "      <th>...</th>\n",
       "      <td>...</td>\n",
       "      <td>...</td>\n",
       "      <td>...</td>\n",
       "      <td>...</td>\n",
       "      <td>...</td>\n",
       "    </tr>\n",
       "    <tr>\n",
       "      <th>2876</th>\n",
       "      <td>2018</td>\n",
       "      <td>Sweetwater</td>\n",
       "      <td>WY</td>\n",
       "      <td>56037</td>\n",
       "      <td>79.2</td>\n",
       "    </tr>\n",
       "    <tr>\n",
       "      <th>2877</th>\n",
       "      <td>2018</td>\n",
       "      <td>Teton</td>\n",
       "      <td>WY</td>\n",
       "      <td>56039</td>\n",
       "      <td>42.6</td>\n",
       "    </tr>\n",
       "    <tr>\n",
       "      <th>2878</th>\n",
       "      <td>2018</td>\n",
       "      <td>Uinta</td>\n",
       "      <td>WY</td>\n",
       "      <td>56041</td>\n",
       "      <td>95.9</td>\n",
       "    </tr>\n",
       "    <tr>\n",
       "      <th>2879</th>\n",
       "      <td>2018</td>\n",
       "      <td>Washakie</td>\n",
       "      <td>WY</td>\n",
       "      <td>56043</td>\n",
       "      <td>75.0</td>\n",
       "    </tr>\n",
       "    <tr>\n",
       "      <th>2880</th>\n",
       "      <td>2018</td>\n",
       "      <td>Weston</td>\n",
       "      <td>WY</td>\n",
       "      <td>56045</td>\n",
       "      <td>35.2</td>\n",
       "    </tr>\n",
       "  </tbody>\n",
       "</table>\n",
       "<p>40409 rows × 5 columns</p>\n",
       "</div>"
      ],
      "text/plain": [
       "      Year          County State County FIPS Code  \\\n",
       "0     2006  Aleutians East    AK            02013   \n",
       "1     2006  Aleutians West    AK            02016   \n",
       "2     2006       Anchorage    AK            02020   \n",
       "3     2006          Bethel    AK            02050   \n",
       "4     2006     Bristol Bay    AK            02060   \n",
       "...    ...             ...   ...              ...   \n",
       "2876  2018      Sweetwater    WY            56037   \n",
       "2877  2018           Teton    WY            56039   \n",
       "2878  2018           Uinta    WY            56041   \n",
       "2879  2018        Washakie    WY            56043   \n",
       "2880  2018          Weston    WY            56045   \n",
       "\n",
       "     Opioid Dispensing Rate per 100  \n",
       "0                                 –  \n",
       "1                                 –  \n",
       "2                              71.5  \n",
       "3                                 –  \n",
       "4                                 –  \n",
       "...                             ...  \n",
       "2876                           79.2  \n",
       "2877                           42.6  \n",
       "2878                           95.9  \n",
       "2879                           75.0  \n",
       "2880                           35.2  \n",
       "\n",
       "[40409 rows x 5 columns]"
      ]
     },
     "execution_count": 5,
     "metadata": {},
     "output_type": "execute_result"
    }
   ],
   "source": [
    "opioidrate_06_18_df"
   ]
  },
  {
   "cell_type": "markdown",
   "id": "112b9e2f",
   "metadata": {},
   "source": [
    "### Scraping 2019 data"
   ]
  },
  {
   "cell_type": "code",
   "execution_count": 6,
   "id": "d456b8b4",
   "metadata": {},
   "outputs": [],
   "source": [
    "url = \"https://www.cdc.gov/drugoverdose/rxrate-maps/county2019.html\"\n",
    "\n",
    "\n",
    "# Make a GET request to fetch the raw HTML content\n",
    "html_content = requests.get(url).text\n",
    "\n",
    "# Parse HTML code for the entire site\n",
    "soup = BeautifulSoup(html_content, \"lxml\")\n",
    "opioid_table = soup.find_all(\"table\")\n",
    "\n",
    "# Lets go ahead and scrape first table with HTML code gdp[0]\n",
    "table = opioid_table[0]\n",
    "# the head will form our column names\n",
    "body = table.find_all(\"tr\")\n",
    "# Head values (Column names) are the first items of the body list\n",
    "#     head = body[0]\n",
    "\n",
    "body_rows = body[1:] # All other items becomes the rest of the rows\n",
    "\n",
    "all_rows = [] # will be a list for list for all rows\n",
    "for row_num in range(len(body_rows)): # A row at a time\n",
    "    row = [] # this will old entries for one row\n",
    "    for row_item in body_rows[row_num].find_all(\"td\"): #loop through all row entries\n",
    "        # row_item.text removes the tags from the entries\n",
    "        # the following regex is to remove \\xa0 and \\n and comma from row_item.text\n",
    "        # xa0 encodes the flag, \\n is the newline and comma separates thousands in numbers\n",
    "        aa = re.sub(\"(\\xa0)|(\\n)|\",\"\",row_item.text)\n",
    "        #append aa to row - note one row entry is being appended\n",
    "        row.append(aa)\n",
    "    # append one row to all_rows\n",
    "    row.insert(0, 2019)\n",
    "    all_rows.append(row)\n",
    "\n",
    "column_names = [\"Year\", \"State\", \"County\", \"County FIPS Code\", \"Opioid Dispensing Rate per 100\"]\n",
    "\n",
    "opioidrate_19_df = pd.DataFrame(data=all_rows, columns = column_names)"
   ]
  },
  {
   "cell_type": "code",
   "execution_count": 7,
   "id": "95a170af",
   "metadata": {},
   "outputs": [],
   "source": [
    "# Reordering the columns\n",
    "opioidrate_19_df = opioidrate_19_df[[\"Year\", \"County\", \"State\", \"County FIPS Code\", \"Opioid Dispensing Rate per 100\"]]"
   ]
  },
  {
   "cell_type": "markdown",
   "id": "98d22ad3",
   "metadata": {},
   "source": [
    "### Reading in 2020 data"
   ]
  },
  {
   "cell_type": "code",
   "execution_count": 8,
   "id": "7b511051",
   "metadata": {},
   "outputs": [],
   "source": [
    "opioidrate_2020 = pd.read_csv(\"opioidrate_2020.txt\", sep = '\\t')\n",
    "opioidrate_2020.insert(0, 'Year', 2020)\n",
    "opioidrate_2020['County'] = opioidrate_2020['County'].str.title()\n",
    "opioidrate_2020 = opioidrate_2020[[\"Year\", \"County\", \"State\", \"County FIPS Code\", \"Opioid Dispensing Rate per 100\"]]"
   ]
  },
  {
   "cell_type": "markdown",
   "id": "f3eb42eb",
   "metadata": {},
   "source": [
    "### Combining 2006-18, 2019, and 2020 data"
   ]
  },
  {
   "cell_type": "code",
   "execution_count": 9,
   "id": "547f6624",
   "metadata": {},
   "outputs": [],
   "source": [
    "opioid_dispense = pd.concat([opioidrate_06_18_df, opioidrate_19_df, opioidrate_2020])"
   ]
  },
  {
   "cell_type": "markdown",
   "id": "78a138b4",
   "metadata": {},
   "source": [
    "### Cleaning 2017 data"
   ]
  },
  {
   "cell_type": "code",
   "execution_count": 10,
   "id": "c7a0ad67",
   "metadata": {},
   "outputs": [],
   "source": [
    "# Switching the values for County and State columns\n",
    "opioid_dispense.loc[(opioid_dispense['Year'] == 2017), ['County', 'State']]=opioid_dispense.loc[(opioid_dispense['Year'] == 2017), ['State', 'County']].values"
   ]
  },
  {
   "cell_type": "code",
   "execution_count": 11,
   "id": "65485244",
   "metadata": {},
   "outputs": [],
   "source": [
    "# Making County column title case\n",
    "opioid_dispense.loc[(opioid_dispense['Year'] == 2017), 'County'] = opioid_dispense.loc[(opioid_dispense['Year'] == 2017), 'County'].str.title()"
   ]
  },
  {
   "cell_type": "code",
   "execution_count": 12,
   "id": "dcf8a647",
   "metadata": {},
   "outputs": [],
   "source": [
    "# Making state column uppercase\n",
    "opioid_dispense.loc[(opioid_dispense['Year'] == 2017), 'State'] = opioid_dispense.loc[(opioid_dispense['Year'] == 2017), 'State'].str.upper()"
   ]
  },
  {
   "cell_type": "markdown",
   "id": "ef70441f",
   "metadata": {},
   "source": [
    "### More cleaning"
   ]
  },
  {
   "cell_type": "code",
   "execution_count": 13,
   "id": "04cd2299",
   "metadata": {},
   "outputs": [],
   "source": [
    "# renaming columns to single terms\n",
    "opioid_dispense = opioid_dispense.rename(columns={'Year': 'Year', 'County': 'County', 'State': 'State', 'County FIPS Code': 'FIPS', 'Opioid Dispensing Rate per 100': 'dispenserate100'})"
   ]
  },
  {
   "cell_type": "code",
   "execution_count": 14,
   "id": "61cfb9e5",
   "metadata": {},
   "outputs": [
    {
     "data": {
      "text/plain": [
       "Year               object\n",
       "County             object\n",
       "State              object\n",
       "FIPS               object\n",
       "dispenserate100    object\n",
       "dtype: object"
      ]
     },
     "execution_count": 14,
     "metadata": {},
     "output_type": "execute_result"
    }
   ],
   "source": [
    "opioid_dispense.dtypes"
   ]
  },
  {
   "cell_type": "code",
   "execution_count": 15,
   "id": "3441673d",
   "metadata": {},
   "outputs": [],
   "source": [
    "# replace all – with NaN\n",
    "opioid_dispense['dispenserate100'] = opioid_dispense['dispenserate100'].replace('–', np.NaN)"
   ]
  },
  {
   "cell_type": "code",
   "execution_count": 16,
   "id": "f3e1f79b",
   "metadata": {},
   "outputs": [
    {
     "data": {
      "text/plain": [
       "Year                 int64\n",
       "County              object\n",
       "State               object\n",
       "FIPS                 int64\n",
       "dispenserate100    float64\n",
       "dtype: object"
      ]
     },
     "execution_count": 16,
     "metadata": {},
     "output_type": "execute_result"
    }
   ],
   "source": [
    "# change data type\n",
    "opioid_dispense.astype({'Year': 'int64', 'County': 'object', 'State': 'object', 'FIPS': 'int64', 'dispenserate100': 'float64'}).dtypes"
   ]
  },
  {
   "cell_type": "code",
   "execution_count": 17,
   "id": "8e8525e6",
   "metadata": {},
   "outputs": [],
   "source": [
    "# write to csv\n",
    "opioid_dispense.to_csv('opioid_dispense.csv')"
   ]
  }
 ],
 "metadata": {
  "kernelspec": {
   "display_name": "Python 3 (ipykernel)",
   "language": "python",
   "name": "python3"
  },
  "language_info": {
   "codemirror_mode": {
    "name": "ipython",
    "version": 3
   },
   "file_extension": ".py",
   "mimetype": "text/x-python",
   "name": "python",
   "nbconvert_exporter": "python",
   "pygments_lexer": "ipython3",
   "version": "3.8.12"
  }
 },
 "nbformat": 4,
 "nbformat_minor": 5
}
