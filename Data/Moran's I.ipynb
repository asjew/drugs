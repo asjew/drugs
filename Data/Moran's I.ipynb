{
 "cells": [
  {
   "cell_type": "code",
   "execution_count": 1,
   "id": "ccb41c64",
   "metadata": {},
   "outputs": [
    {
     "name": "stderr",
     "output_type": "stream",
     "text": [
      "/Users/meera/opt/anaconda3/lib/python3.8/site-packages/geopandas/_compat.py:111: UserWarning: The Shapely GEOS version (3.10.2-CAPI-1.16.0) is incompatible with the GEOS version PyGEOS was compiled with (3.10.1-CAPI-1.16.0). Conversions between both will be slow.\n",
      "  warnings.warn(\n"
     ]
    }
   ],
   "source": [
    "# Import libraries\n",
    "import numpy as np\n",
    "import pandas as pd\n",
    "import geopandas as gpd\n",
    "import libpysal as ps\n",
    "import matplotlib.pyplot as plt\n",
    "import matplotlib as mpl\n",
    "\n",
    "#For basemap:\n",
    "import contextily as cx\n",
    "\n",
    "#For regression:\n",
    "import statsmodels.api as sm\n",
    "import numpy as np\n",
    "from patsy import dmatrices\n",
    "\n",
    "import esda as esda\n",
    "from esda.moran import Moran_Local\n",
    "import splot as splot\n",
    "\n",
    "#Plot spatial weights:\n",
    "from libpysal.weights.contiguity import Queen\n",
    "from splot.libpysal import plot_spatial_weights\n",
    "from splot.esda import moran_scatterplot, plot_moran\n",
    "from splot.esda import plot_local_autocorrelation\n",
    "\n",
    "# For GWR\n",
    "from mgwr.gwr import GWR, MGWR\n",
    "from mgwr.sel_bw import Sel_BW\n",
    "from mgwr.utils import compare_surfaces, truncate_colormap"
   ]
  },
  {
   "cell_type": "code",
   "execution_count": 2,
   "id": "7cec8a9e",
   "metadata": {},
   "outputs": [],
   "source": [
    "def standardize(raw_data):\n",
    "    return ((raw_data - np.mean(raw_data, axis = 0)) / np.std(raw_data, axis = 0))"
   ]
  },
  {
   "cell_type": "code",
   "execution_count": 3,
   "id": "c9aff149",
   "metadata": {},
   "outputs": [
    {
     "name": "stdout",
     "output_type": "stream",
     "text": [
      "<class 'geopandas.geodataframe.GeoDataFrame'>\n",
      "RangeIndex: 15896 entries, 0 to 15895\n",
      "Data columns (total 41 columns):\n",
      " #   Column                       Non-Null Count  Dtype   \n",
      "---  ------                       --------------  -----   \n",
      " 0   AA_FEMALE                    8835 non-null   float64 \n",
      " 1   AA_MALE                      8835 non-null   float64 \n",
      " 2   AGEGRP                       0 non-null      float64 \n",
      " 3   BA_FEMALE                    8835 non-null   float64 \n",
      " 4   BA_MALE                      8835 non-null   float64 \n",
      " 5   Crude_Rate                   0 non-null      object  \n",
      " 6   Cruder_Rate                  15896 non-null  float64 \n",
      " 7   Deathrate_per_100            15896 non-null  float64 \n",
      " 8   Deaths                       15896 non-null  float64 \n",
      " 9   Dispense_rate                12810 non-null  float64 \n",
      " 10  H_FEMALE                     8835 non-null   float64 \n",
      " 11  H_MALE                       8835 non-null   float64 \n",
      " 12  IA_FEMALE                    8835 non-null   float64 \n",
      " 13  IA_MALE                      8835 non-null   float64 \n",
      " 14  Incarceration_Rate_per_100k  14022 non-null  float64 \n",
      " 15  Jail_Population              14022 non-null  float64 \n",
      " 16  MedianHHI                    15896 non-null  float64 \n",
      " 17  NA_FEMALE                    8835 non-null   float64 \n",
      " 18  NA_MALE                      8835 non-null   float64 \n",
      " 19  NH_FEMALE                    8835 non-null   float64 \n",
      " 20  NH_MALE                      8835 non-null   float64 \n",
      " 21  Population                   15896 non-null  float64 \n",
      " 22  PovertyCount                 15896 non-null  float64 \n",
      " 23  PovertyPercentage            15896 non-null  float64 \n",
      " 24  SUMLEV                       0 non-null      float64 \n",
      " 25  TOM_FEMALE                   8835 non-null   float64 \n",
      " 26  TOM_MALE                     8835 non-null   float64 \n",
      " 27  TOT_FEMALE                   8835 non-null   float64 \n",
      " 28  TOT_MALE                     8835 non-null   float64 \n",
      " 29  TOT_POP                      8835 non-null   float64 \n",
      " 30  Unemployment_rate            15583 non-null  float64 \n",
      " 31  WA_FEMALE                    8835 non-null   float64 \n",
      " 32  WA_MALE                      8835 non-null   float64 \n",
      " 33  Year                         15896 non-null  float64 \n",
      " 34  FIPS                         15896 non-null  object  \n",
      " 35  State                        15896 non-null  object  \n",
      " 36  County                       15896 non-null  object  \n",
      " 37  Urbanicity                   14446 non-null  object  \n",
      " 38  Latitude                     15896 non-null  float64 \n",
      " 39  Longitude                    15896 non-null  float64 \n",
      " 40  geometry                     15896 non-null  geometry\n",
      "dtypes: float64(35), geometry(1), object(5)\n",
      "memory usage: 5.0+ MB\n"
     ]
    }
   ],
   "source": [
    "geogon_od = pd.read_csv('geogon_od.csv')\n",
    "geogon_od \n",
    "\n",
    "# Rename our columns to have spaces \n",
    "geogon_od.columns = ['Year', 'FIPS', 'State', 'County', 'Deaths', 'Population', 'Crude_Rate',\n",
    "       'Cruder_Rate', 'Deathrate_per_100', 'Unemployment_rate',\n",
    "       'Dispense_rate', 'SUMLEV', 'AGEGRP', 'TOT_POP', 'TOT_MALE',\n",
    "       'TOT_FEMALE', 'WA_MALE', 'WA_FEMALE', 'BA_MALE', 'BA_FEMALE', 'IA_MALE',\n",
    "       'IA_FEMALE', 'AA_MALE', 'AA_FEMALE', 'NA_MALE', 'NA_FEMALE', 'TOM_MALE',\n",
    "       'TOM_FEMALE', 'NH_MALE', 'NH_FEMALE', 'H_MALE', 'H_FEMALE',\n",
    "       'Urbanicity', 'Jail_Population', 'Incarceration_Rate_per_100k',\n",
    "       'PovertyCount', 'PovertyPercentage', 'MedianHHI', 'Latitude',\n",
    "       'Longitude', 'geometry']\n",
    "\n",
    "\n",
    "#\n",
    "nonnum_features = ['Year', 'FIPS', 'State', 'County', 'Urbanicity', 'Latitude',\n",
    "                   'Longitude', 'geometry']\n",
    "stzd_geogon = standardize(geogon_od.drop(nonnum_features, axis = 1))\n",
    "stzd_geogon[nonnum_features] = geogon_od[nonnum_features]\n",
    "stzd_geogon\n",
    "\n",
    "\n",
    "\n",
    "\n",
    "\n",
    "# Convert to geopandas \n",
    "# geogon_od = gpd.GeoDataFrame(geogon_od)\n",
    "stzd_geogon['geometry'] = gpd.GeoSeries.from_wkt(stzd_geogon['geometry'])\n",
    "stzd_geogon = gpd.GeoDataFrame(stzd_geogon, geometry = 'geometry')\n",
    "\n",
    "\n",
    "# Convert FIPS to string \n",
    "geogon_od['FIPS'] = geogon_od['FIPS'].astype(str).str.zfill(5)\n",
    "\n",
    "stzd_geogon['FIPS'] = stzd_geogon['FIPS'].astype(str).str.zfill(5)\n",
    "stzd_geogon.info()"
   ]
  },
  {
   "cell_type": "code",
   "execution_count": 4,
   "id": "961c27b5",
   "metadata": {},
   "outputs": [
    {
     "name": "stdout",
     "output_type": "stream",
     "text": [
      "Index(['AA_FEMALE', 'AA_MALE', 'AGEGRP', 'BA_FEMALE', 'BA_MALE', 'Crude_Rate',\n",
      "       'Cruder_Rate', 'Deathrate_per_100', 'Deaths', 'Dispense_rate',\n",
      "       'H_FEMALE', 'H_MALE', 'IA_FEMALE', 'IA_MALE',\n",
      "       'Incarceration_Rate_per_100k', 'Jail_Population', 'MedianHHI',\n",
      "       'NA_FEMALE', 'NA_MALE', 'NH_FEMALE', 'NH_MALE', 'Population',\n",
      "       'PovertyCount', 'PovertyPercentage', 'SUMLEV', 'TOM_FEMALE', 'TOM_MALE',\n",
      "       'TOT_FEMALE', 'TOT_MALE', 'TOT_POP', 'Unemployment_rate', 'WA_FEMALE',\n",
      "       'WA_MALE', 'Year', 'FIPS', 'State', 'County', 'Urbanicity', 'Latitude',\n",
      "       'Longitude', 'geometry'],\n",
      "      dtype='object')\n"
     ]
    }
   ],
   "source": [
    "print(stzd_geogon.columns)"
   ]
  },
  {
   "cell_type": "code",
   "execution_count": 5,
   "id": "b2256d1e",
   "metadata": {},
   "outputs": [
    {
     "data": {
      "text/plain": [
       "'Cruder_Rate ~ AA_FEMALE + AA_MALE + BA_FEMALE + BA_MALE + H_FEMALE + H_MALE + IA_FEMALE + IA_MALE + NA_FEMALE + NA_MALE + NH_FEMALE + NH_MALE + TOM_FEMALE + TOM_MALE + WA_FEMALE + WA_MALE + Unemployment_rate + Dispense_rate + Incarceration_Rate_per_100k + PovertyPercentage + MedianHHI'"
      ]
     },
     "execution_count": 5,
     "metadata": {},
     "output_type": "execute_result"
    }
   ],
   "source": [
    "\"Cruder_Rate ~ AA_FEMALE + AA_MALE + BA_FEMALE + BA_MALE + \\\n",
    "H_FEMALE + H_MALE + IA_FEMALE + IA_MALE + NA_FEMALE + NA_MALE + NH_FEMALE + NH_MALE + \\\n",
    "TOM_FEMALE + TOM_MALE + WA_FEMALE + WA_MALE + \\\n",
    "Unemployment_rate + Dispense_rate + Incarceration_Rate_per_100k + PovertyPercentage + MedianHHI\""
   ]
  },
  {
   "cell_type": "code",
   "execution_count": 6,
   "id": "a0ef7106",
   "metadata": {},
   "outputs": [
    {
     "name": "stdout",
     "output_type": "stream",
     "text": [
      "                            OLS Regression Results                            \n",
      "==============================================================================\n",
      "Dep. Variable:            Cruder_Rate   R-squared:                       0.238\n",
      "Model:                            OLS   Adj. R-squared:                  0.221\n",
      "Method:                 Least Squares   F-statistic:                     13.75\n",
      "Date:                Wed, 16 Mar 2022   Prob (F-statistic):           3.91e-38\n",
      "Time:                        22:29:30   Log-Likelihood:                -1016.2\n",
      "No. Observations:                 857   AIC:                             2072.\n",
      "Df Residuals:                     837   BIC:                             2167.\n",
      "Df Model:                          19                                         \n",
      "Covariance Type:            nonrobust                                         \n",
      "===============================================================================================\n",
      "                                  coef    std err          t      P>|t|      [0.025      0.975]\n",
      "-----------------------------------------------------------------------------------------------\n",
      "Intercept                       0.1299      0.036      3.579      0.000       0.059       0.201\n",
      "AA_FEMALE                       1.0095      0.884      1.142      0.254      -0.725       2.744\n",
      "AA_MALE                        -0.8754      0.858     -1.020      0.308      -2.560       0.809\n",
      "BA_FEMALE                       0.3566      1.090      0.327      0.744      -1.783       2.496\n",
      "BA_MALE                        -0.4984      1.110     -0.449      0.654      -2.677       1.680\n",
      "H_FEMALE                       -0.0408      1.082     -0.038      0.970      -2.164       2.083\n",
      "H_MALE                         -0.0680      1.106     -0.061      0.951      -2.239       2.103\n",
      "IA_FEMALE                       0.5509      0.764      0.721      0.471      -0.948       2.050\n",
      "IA_MALE                        -0.6813      0.816     -0.835      0.404      -2.282       0.920\n",
      "NA_FEMALE                       0.5390      1.220      0.442      0.659      -1.856       2.934\n",
      "NA_MALE                        -0.5662      1.263     -0.448      0.654      -3.045       1.913\n",
      "NH_FEMALE                      -0.5878      0.996     -0.590      0.555      -2.542       1.367\n",
      "NH_MALE                         0.8293      1.063      0.780      0.436      -1.258       2.916\n",
      "TOM_FEMALE                      1.5772      1.624      0.971      0.332      -1.611       4.765\n",
      "TOM_MALE                       -1.8101      1.681     -1.077      0.282      -5.109       1.489\n",
      "WA_FEMALE                      -0.9697      0.929     -1.044      0.297      -2.793       0.853\n",
      "WA_MALE                         1.0911      0.936      1.165      0.244      -0.747       2.929\n",
      "Unemployment_rate               0.2098      0.050      4.170      0.000       0.111       0.309\n",
      "Dispense_rate                   0.3336      0.044      7.544      0.000       0.247       0.420\n",
      "Incarceration_Rate_per_100k    -0.0513      0.033     -1.537      0.125      -0.117       0.014\n",
      "PovertyPercentage               0.0305      0.052      0.588      0.556      -0.071       0.132\n",
      "MedianHHI                      -0.1427      0.056     -2.549      0.011      -0.253      -0.033\n",
      "==============================================================================\n",
      "Omnibus:                      479.578   Durbin-Watson:                   1.440\n",
      "Prob(Omnibus):                  0.000   Jarque-Bera (JB):             5915.120\n",
      "Skew:                           2.284   Prob(JB):                         0.00\n",
      "Kurtosis:                      15.033   Cond. No.                     1.03e+16\n",
      "==============================================================================\n",
      "\n",
      "Notes:\n",
      "[1] Standard Errors assume that the covariance matrix of the errors is correctly specified.\n",
      "[2] The smallest eigenvalue is 9.21e-29. This might indicate that there are\n",
      "strong multicollinearity problems or that the design matrix is singular.\n"
     ]
    }
   ],
   "source": [
    "stzd_geogon15 = stzd_geogon[stzd_geogon['Year'] == 2015]\n",
    "\n",
    "y, X = dmatrices(\"Cruder_Rate ~ AA_FEMALE + AA_MALE + BA_FEMALE + BA_MALE + \\\n",
    "H_FEMALE + H_MALE + IA_FEMALE + IA_MALE + NA_FEMALE + NA_MALE + NH_FEMALE + NH_MALE + \\\n",
    "TOM_FEMALE + TOM_MALE + WA_FEMALE + WA_MALE + \\\n",
    "Unemployment_rate + Dispense_rate + Incarceration_Rate_per_100k + PovertyPercentage + MedianHHI\", \n",
    "                 data=stzd_geogon15, return_type='dataframe')\n",
    "mod = sm.OLS(y, X)\n",
    "res = mod.fit()\n",
    "residuals = res.resid\n",
    "predicted = res.fittedvalues\n",
    "observed = y\n",
    "print(res.summary())"
   ]
  },
  {
   "cell_type": "code",
   "execution_count": 7,
   "id": "618f87ef",
   "metadata": {},
   "outputs": [
    {
     "name": "stdout",
     "output_type": "stream",
     "text": [
      "<class 'geopandas.geodataframe.GeoDataFrame'>\n",
      "Int64Index: 886 entries, 9952 to 10837\n",
      "Data columns (total 41 columns):\n",
      " #   Column                       Non-Null Count  Dtype   \n",
      "---  ------                       --------------  -----   \n",
      " 0   AA_FEMALE                    886 non-null    float64 \n",
      " 1   AA_MALE                      886 non-null    float64 \n",
      " 2   AGEGRP                       0 non-null      float64 \n",
      " 3   BA_FEMALE                    886 non-null    float64 \n",
      " 4   BA_MALE                      886 non-null    float64 \n",
      " 5   Crude_Rate                   0 non-null      object  \n",
      " 6   Cruder_Rate                  886 non-null    float64 \n",
      " 7   Deathrate_per_100            886 non-null    float64 \n",
      " 8   Deaths                       886 non-null    float64 \n",
      " 9   Dispense_rate                886 non-null    float64 \n",
      " 10  H_FEMALE                     886 non-null    float64 \n",
      " 11  H_MALE                       886 non-null    float64 \n",
      " 12  IA_FEMALE                    886 non-null    float64 \n",
      " 13  IA_MALE                      886 non-null    float64 \n",
      " 14  Incarceration_Rate_per_100k  857 non-null    float64 \n",
      " 15  Jail_Population              857 non-null    float64 \n",
      " 16  MedianHHI                    886 non-null    float64 \n",
      " 17  NA_FEMALE                    886 non-null    float64 \n",
      " 18  NA_MALE                      886 non-null    float64 \n",
      " 19  NH_FEMALE                    886 non-null    float64 \n",
      " 20  NH_MALE                      886 non-null    float64 \n",
      " 21  Population                   886 non-null    float64 \n",
      " 22  PovertyCount                 886 non-null    float64 \n",
      " 23  PovertyPercentage            886 non-null    float64 \n",
      " 24  SUMLEV                       0 non-null      float64 \n",
      " 25  TOM_FEMALE                   886 non-null    float64 \n",
      " 26  TOM_MALE                     886 non-null    float64 \n",
      " 27  TOT_FEMALE                   886 non-null    float64 \n",
      " 28  TOT_MALE                     886 non-null    float64 \n",
      " 29  TOT_POP                      886 non-null    float64 \n",
      " 30  Unemployment_rate            886 non-null    float64 \n",
      " 31  WA_FEMALE                    886 non-null    float64 \n",
      " 32  WA_MALE                      886 non-null    float64 \n",
      " 33  Year                         886 non-null    float64 \n",
      " 34  FIPS                         886 non-null    object  \n",
      " 35  State                        886 non-null    object  \n",
      " 36  County                       886 non-null    object  \n",
      " 37  Urbanicity                   882 non-null    object  \n",
      " 38  Latitude                     886 non-null    float64 \n",
      " 39  Longitude                    886 non-null    float64 \n",
      " 40  geometry                     886 non-null    geometry\n",
      "dtypes: float64(35), geometry(1), object(5)\n",
      "memory usage: 290.7+ KB\n"
     ]
    }
   ],
   "source": [
    "stzd_geogon15.info()"
   ]
  },
  {
   "cell_type": "code",
   "execution_count": 11,
   "id": "49869103",
   "metadata": {},
   "outputs": [
    {
     "name": "stderr",
     "output_type": "stream",
     "text": [
      "/Users/meera/opt/anaconda3/lib/python3.8/site-packages/libpysal/weights/weights.py:172: UserWarning: The weights matrix is not fully connected: \n",
      " There are 105 disconnected components.\n",
      " There are 51 islands with ids: 6, 12, 30, 97, 102, 119, 144, 173, 174, 177, 178, 204, 228, 229, 230, 232, 233, 250, 262, 280, 281, 310, 334, 344, 357, 360, 362, 363, 383, 387, 395, 397, 435, 450, 553, 658, 662, 673, 700, 717, 739, 744, 751, 752, 754, 755, 794, 819, 832, 841, 843.\n",
      "  warnings.warn(message)\n",
      "/Users/meera/opt/anaconda3/lib/python3.8/site-packages/libpysal/weights/weights.py:172: UserWarning: The weights matrix is not fully connected: \n",
      " There are 54 disconnected components.\n",
      "  warnings.warn(message)\n"
     ]
    },
    {
     "data": {
      "text/plain": [
       "0.514680965386146"
      ]
     },
     "execution_count": 11,
     "metadata": {},
     "output_type": "execute_result"
    }
   ],
   "source": [
    "#Now that we have the model we will calculate Morrison I !! \n",
    "# we pull out the counties \n",
    "\n",
    "# stzd_geogon15 = stzd_geogon15.drop(['AGEGRP', 'Crude_Rate', 'SUMLEV'], axis = 1)\n",
    "# stzd_geogon15 = stzd_geogon15.dropna()\n",
    "stzd_geogon15 = stzd_geogon15.reset_index(drop = True)\n",
    "w = Queen.from_dataframe(stzd_geogon15)\n",
    "\n",
    "stzd_geogon15_2 = stzd_geogon15.drop(w.islands)\n",
    "w2 = Queen.from_dataframe(stzd_geogon15_2)\n",
    "\n",
    "y2 = y.reset_index(drop = True)\n",
    "y3 = y2.drop(w.islands)\n",
    "moran = esda.Moran(y3, w2)\n",
    "moran.I"
   ]
  },
  {
   "cell_type": "markdown",
   "id": "ec228e57",
   "metadata": {},
   "source": [
    "Here we are veryifing that under the null hypothesis "
   ]
  },
  {
   "cell_type": "code",
   "execution_count": null,
   "id": "4058923d",
   "metadata": {},
   "outputs": [],
   "source": []
  }
 ],
 "metadata": {
  "kernelspec": {
   "display_name": "Python 3",
   "language": "python",
   "name": "python3"
  },
  "language_info": {
   "codemirror_mode": {
    "name": "ipython",
    "version": 3
   },
   "file_extension": ".py",
   "mimetype": "text/x-python",
   "name": "python",
   "nbconvert_exporter": "python",
   "pygments_lexer": "ipython3",
   "version": "3.8.8"
  }
 },
 "nbformat": 4,
 "nbformat_minor": 5
}
