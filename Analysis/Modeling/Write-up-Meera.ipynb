{
 "cells": [
  {
   "cell_type": "markdown",
   "id": "eb6cc15e",
   "metadata": {},
   "source": [
    "## Interim Write-Up (Stat222)\n",
    "Meera Duggal \\\n",
    "Heroin Overdose Project \\\n",
    "Group: Ashlyn, Rhiann, Wei"
   ]
  },
  {
   "cell_type": "markdown",
   "id": "99db187f",
   "metadata": {},
   "source": [
    "#### Problem Description \n",
    "Our question that we want to explore with this project is: \n",
    " ###### How do different aspects of counties (such as location, demographics, opiod dispense rates, and etc.) relate to drug overdose rates?\n",
    "\n",
    "The motivation for this project is to determine how we can mitigate the increase in drug overdoses in different counties in the United States. This would appeal to policy makers as ...*finish writing this* \n",
    "\n"
   ]
  },
  {
   "cell_type": "markdown",
   "id": "b4d51e10",
   "metadata": {},
   "source": [
    "#### Our Data \n",
    "\n",
    "The main dataset that we are going to be working with throughout this project is from the .... . This data contains drug overdose rates from different counties in the United States. This data has different columns for  Also, we have each of these colomns for the years 2000-2020. One interesting thing that we noted is that for each year we have a different amount of counties. For example, in 2000 there are roughly 300 counties in the United States accounted for, but that number changes throughout the year, becoming 1700 at the year 2020. That being said, we are still going to use this data for our analysis as for each year the numbers given represents over 50% of the United States. \n",
    "\n",
    "In order to make our analysis as robust as possible our group deemed it neccessary to gather as many possible different demographics and variables. This was done in attempt to reduce the * somehing about preselecting the relevat covariates here*. **Talk about the differenet data that you have and  \n",
    "\n",
    "* include the data demographic thingie and maybe a graph of EDA or so \n",
    "* the map of the cruder rate with the color hues \n",
    "* Include wei's image here as well"
   ]
  },
  {
   "cell_type": "markdown",
   "id": "9ae2b275",
   "metadata": {},
   "source": [
    "#### Methods and Results \n",
    "\n",
    "After we combined our different datasets together and cleaned it we decided to fit an Ordinary Least Squares Model. The input for our covariates in our model are the different demographics and summaries we found for the different counties (listed above). This includes incarceration rate, different demographics (race and gender), unemployment rate, opiod dispense rate, incarceration rates, urbanicity etc. \n",
    "\n",
    "* Put the equation for the OLS model here* \n",
    "\n",
    "* Put the result to the OLS Model here* \n",
    "\n"
   ]
  },
  {
   "cell_type": "markdown",
   "id": "6f9797ba",
   "metadata": {},
   "source": []
  },
  {
   "cell_type": "markdown",
   "id": "a77d1700",
   "metadata": {},
   "source": [
    "#### Conclusions "
   ]
  },
  {
   "cell_type": "markdown",
   "id": "1aa15542",
   "metadata": {},
   "source": [
    "#### Bibliography "
   ]
  }
 ],
 "metadata": {
  "kernelspec": {
   "display_name": "Python 3",
   "language": "python",
   "name": "python3"
  },
  "language_info": {
   "codemirror_mode": {
    "name": "ipython",
    "version": 3
   },
   "file_extension": ".py",
   "mimetype": "text/x-python",
   "name": "python",
   "nbconvert_exporter": "python",
   "pygments_lexer": "ipython3",
   "version": "3.8.8"
  }
 },
 "nbformat": 4,
 "nbformat_minor": 5
}
