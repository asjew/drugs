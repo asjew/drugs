{
 "cells": [
  {
   "cell_type": "code",
   "execution_count": 136,
   "id": "8ed3f213",
   "metadata": {},
   "outputs": [],
   "source": [
    "import os \n",
    "import numpy as np\n",
    "import pandas as pd \n",
    "import missingno as msno\n",
    "import matplotlib.pyplot as plt\n",
    "import seaborn as sns\n",
    "import warnings\n",
    "import statsmodels.api as sm\n",
    "from statsmodels.formula.api import ols\n",
    "warnings.filterwarnings(\"ignore\")\n",
    "from sklearn.linear_model import LinearRegression\n",
    "from sklearn.model_selection import train_test_split\n",
    "from patsy import dmatrices\n",
    "from sklearn.metrics import r2_score \n",
    "import math"
   ]
  },
  {
   "cell_type": "code",
   "execution_count": 2,
   "id": "c475ea69",
   "metadata": {},
   "outputs": [],
   "source": [
    "# # change directories - run only once\n",
    "# os.chdir(os.path.dirname(os.getcwd()))\n",
    "# os.chdir(os.path.dirname(os.getcwd()))\n",
    "# os.chdir('Data')"
   ]
  },
  {
   "cell_type": "code",
   "execution_count": 137,
   "id": "548fa84c",
   "metadata": {},
   "outputs": [],
   "source": [
    "# read in data\n",
    "df_full = pd.read_csv('od_final_transformed.csv', dtype = {'FIPS': str})\n",
    "df_full['FIPS'] = df_full['FIPS'].astype(str).str.zfill(5)\n",
    "df_full.to_csv('od_final_transformed.csv', index = False)\n",
    "df_na = pd.read_csv('od_nonull_final.csv')\n",
    "\n",
    "# define RMSE function\n",
    "def compute_rmse(predictions, yvalues): \n",
    "    rmse = np.sqrt(np.sum(np.subtract(yvalues, predictions)**2)/len(yvalues))\n",
    "    return rmse "
   ]
  },
  {
   "cell_type": "code",
   "execution_count": 144,
   "id": "8af8a094",
   "metadata": {},
   "outputs": [],
   "source": [
    "# change directories again to get county adjacency data\n",
    "os.chdir('Geographical_Data')\n",
    "adjacencies = pd.read_csv('county_adjacency.csv', dtype = {'fipscounty': str, 'fipsneighbor': str})\n",
    "os.chdir(os.path.dirname(os.getcwd()))\n",
    "\n",
    "# # removing rows where the adjacent county is itself\n",
    "adjacencies = adjacencies[adjacencies['fipscounty'] != adjacencies['fipsneighbor']]\n",
    "adjacencies.columns = ['countyname', 'fipscounty', 'neighborname', 'FIPS']"
   ]
  },
  {
   "cell_type": "code",
   "execution_count": 139,
   "id": "b04f5314",
   "metadata": {},
   "outputs": [
    {
     "name": "stdout",
     "output_type": "stream",
     "text": [
      "                                OLS Regression Results                                \n",
      "======================================================================================\n",
      "Dep. Variable:     log_Overdose_Rate_per_100k   R-squared:                       0.625\n",
      "Model:                                    OLS   Adj. R-squared:                  0.625\n",
      "Method:                         Least Squares   F-statistic:                     1669.\n",
      "Date:                        Sun, 01 May 2022   Prob (F-statistic):               0.00\n",
      "Time:                                17:58:55   Log-Likelihood:                -2774.1\n",
      "No. Observations:                        8018   AIC:                             5566.\n",
      "Df Residuals:                            8009   BIC:                             5629.\n",
      "Df Model:                                   8                                         \n",
      "Covariance Type:                    nonrobust                                         \n",
      "=============================================================================================\n",
      "                                coef    std err          t      P>|t|      [0.025      0.975]\n",
      "---------------------------------------------------------------------------------------------\n",
      "Intercept                     1.7197      0.070     24.739      0.000       1.583       1.856\n",
      "Pct_Age_lt_18                -0.0229      0.001    -16.221      0.000      -0.026      -0.020\n",
      "log_Pct_Black                -0.0603      0.005    -12.393      0.000      -0.070      -0.051\n",
      "Potential_Years_Lost       9.503e-05   2.85e-06     33.321      0.000    8.94e-05       0.000\n",
      "Pct_Uninsured                -0.0111      0.001    -12.886      0.000      -0.013      -0.009\n",
      "log_PrimCarePhys_per_100k    -0.0915      0.008    -10.963      0.000      -0.108      -0.075\n",
      "Pct_Child_in_1ParentHH        0.0082      0.001     10.619      0.000       0.007       0.010\n",
      "Pct_Poverty                  -0.0112      0.001     -9.103      0.000      -0.014      -0.009\n",
      "log_Spatial_Mean              0.5427      0.010     53.957      0.000       0.523       0.562\n",
      "==============================================================================\n",
      "Omnibus:                       74.493   Durbin-Watson:                   1.885\n",
      "Prob(Omnibus):                  0.000   Jarque-Bera (JB):               91.307\n",
      "Skew:                          -0.162   Prob(JB):                     1.49e-20\n",
      "Kurtosis:                       3.410   Cond. No.                     1.45e+05\n",
      "==============================================================================\n",
      "\n",
      "Notes:\n",
      "[1] Standard Errors assume that the covariance matrix of the errors is correctly specified.\n",
      "[2] The condition number is large, 1.45e+05. This might indicate that there are\n",
      "strong multicollinearity or other numerical problems.\n"
     ]
    }
   ],
   "source": [
    "# fit our model\n",
    "features = df_na.drop('log_Overdose_Rate_per_100k', axis = 1).columns\n",
    "plop = '+'.join(features)\n",
    "mod = ols('log_Overdose_Rate_per_100k ~ ' + plop, data = df_na)\n",
    "res = mod.fit()\n",
    "print(res.summary())"
   ]
  },
  {
   "cell_type": "code",
   "execution_count": 140,
   "id": "29eb37e9",
   "metadata": {},
   "outputs": [],
   "source": [
    "# this is where we are missing overdose rates in the full data\n",
    "missing_idx = np.where(df_full.log_Overdose_Rate_per_100k.isnull())[0]\n",
    "\n",
    "# make predictions using our ols model\n",
    "predicts = res.predict(df_full)\n",
    "\n",
    "# fill in what we can of the missing data\n",
    "df_full.log_Overdose_Rate_per_100k[missing_idx] = predicts[missing_idx]"
   ]
  },
  {
   "cell_type": "code",
   "execution_count": 215,
   "id": "56b0eb60",
   "metadata": {},
   "outputs": [],
   "source": [
    "# function for computing spatial mean\n",
    "def get_spatmean(df, adjacencies):\n",
    "    rates = df[['Year', 'FIPS', 'log_Overdose_Rate_per_100k']]\n",
    "    merged = adjacencies.merge(rates, on = ['FIPS'], how = 'left') \n",
    "    grouped_means = merged.groupby(['Year', 'fipscounty'], as_index = False).mean()\n",
    "    grouped_means.columns = ['Year', 'FIPS', 'log_Spatial_Mean']\n",
    "    df2_temp = df.merge(grouped_means, on = ['Year', 'FIPS'], how = 'left')\n",
    "    null_idx = np.where(df_full.log_Spatial_Mean.isnull())[0]\n",
    "    df.log_Spatial_Mean[null_idx] = df2_temp.log_Spatial_Mean_y[null_idx]\n",
    "    \n",
    "    return df"
   ]
  },
  {
   "cell_type": "code",
   "execution_count": 220,
   "id": "500799a9",
   "metadata": {},
   "outputs": [],
   "source": [
    "df_full2 = get_spatmean(df_full, adjacencies)\n",
    "\n",
    "# this is where we are missing overdose rates in the full data\n",
    "missing_idx = np.where(df_full2.log_Overdose_Rate_per_100k.isnull())[0]\n",
    "\n",
    "# make predictions using our ols model\n",
    "predicts = res.predict(df_full2)\n",
    "\n",
    "# fill in what we can of the missing data\n",
    "df_full2.log_Overdose_Rate_per_100k[missing_idx] = predicts[missing_idx]"
   ]
  },
  {
   "cell_type": "code",
   "execution_count": 221,
   "id": "733ce248",
   "metadata": {
    "scrolled": true
   },
   "outputs": [],
   "source": [
    "df_full.to_csv('test_estimate.csv', index = False)\n",
    "df_full2.to_csv('test_estimate2.csv', index = False)"
   ]
  }
 ],
 "metadata": {
  "kernelspec": {
   "display_name": "Python 3 (ipykernel)",
   "language": "python",
   "name": "python3"
  },
  "language_info": {
   "codemirror_mode": {
    "name": "ipython",
    "version": 3
   },
   "file_extension": ".py",
   "mimetype": "text/x-python",
   "name": "python",
   "nbconvert_exporter": "python",
   "pygments_lexer": "ipython3",
   "version": "3.8.3"
  }
 },
 "nbformat": 4,
 "nbformat_minor": 5
}
