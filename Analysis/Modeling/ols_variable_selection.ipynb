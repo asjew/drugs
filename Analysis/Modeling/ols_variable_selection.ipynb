{
 "cells": [
  {
   "cell_type": "code",
   "execution_count": 2,
   "id": "174dc6ab",
   "metadata": {},
   "outputs": [],
   "source": [
    "import pandas as pd\n",
    "import os"
   ]
  },
  {
   "cell_type": "markdown",
   "id": "bdbfbd36",
   "metadata": {},
   "source": [
    "## Data Cleaning and Editing"
   ]
  },
  {
   "cell_type": "code",
   "execution_count": 13,
   "id": "5ed92108",
   "metadata": {
    "hide_input": false
   },
   "outputs": [],
   "source": [
    "# Navigating to csv file\n",
    "os.chdir('data')\n",
    "geogon_od = pd.read_csv('geogon_od.csv')"
   ]
  },
  {
   "cell_type": "code",
   "execution_count": 14,
   "id": "a2efd1bc",
   "metadata": {},
   "outputs": [
    {
     "data": {
      "text/plain": [
       "Index(['Year', 'FIPS', 'State', 'County', 'Deaths', 'Population', 'Crude Rate',\n",
       "       'Cruder Rate', 'Deathrate per 100', 'Unemployment_rate',\n",
       "       'Dispense_rate', 'SUMLEV', 'AGEGRP', 'TOT_POP', 'TOT_MALE',\n",
       "       'TOT_FEMALE', 'WA_MALE', 'WA_FEMALE', 'BA_MALE', 'BA_FEMALE', 'IA_MALE',\n",
       "       'IA_FEMALE', 'AA_MALE', 'AA_FEMALE', 'NA_MALE', 'NA_FEMALE', 'TOM_MALE',\n",
       "       'TOM_FEMALE', 'NH_MALE', 'NH_FEMALE', 'H_MALE', 'H_FEMALE',\n",
       "       'Urbanicity', 'Jail Population', 'Incarceration Rate per 100k',\n",
       "       'PovertyCount', 'PovertyPercentage', 'MedianHHI', 'Latitude',\n",
       "       'Longitude', 'geometry'],\n",
       "      dtype='object')"
      ]
     },
     "execution_count": 14,
     "metadata": {},
     "output_type": "execute_result"
    }
   ],
   "source": [
    "geogon_od.columns"
   ]
  },
  {
   "cell_type": "code",
   "execution_count": 15,
   "id": "3cf9b4b2",
   "metadata": {},
   "outputs": [
    {
     "data": {
      "text/plain": [
       "0        2.0\n",
       "1        4.0\n",
       "2        2.0\n",
       "3        2.0\n",
       "4        2.0\n",
       "        ... \n",
       "15891    NaN\n",
       "15892    NaN\n",
       "15893    NaN\n",
       "15894    NaN\n",
       "15895    1.0\n",
       "Name: Urbanicity, Length: 15896, dtype: float64"
      ]
     },
     "execution_count": 15,
     "metadata": {},
     "output_type": "execute_result"
    }
   ],
   "source": [
    "# Recoding urbanicity to ordinal\n",
    "urban_dict = {'rural' : 1, 'small/mid' : 2, 'suburban': 3, 'urban' : 4}\n",
    "geogon_od = geogon_od.replace({\"Urbanicity\": urban_dict})\n",
    "geogon_od['Urbanicity']"
   ]
  },
  {
   "cell_type": "markdown",
   "id": "941a93a3",
   "metadata": {},
   "source": [
    "## Exhaustive Feature Selection"
   ]
  },
  {
   "cell_type": "code",
   "execution_count": 31,
   "id": "89ccd420",
   "metadata": {},
   "outputs": [],
   "source": [
    "def standardize(raw_data):\n",
    "    return ((raw_data - np.mean(raw_data, axis = 0)) / np.std(raw_data, axis = 0))"
   ]
  },
  {
   "cell_type": "code",
   "execution_count": 65,
   "id": "2f8782af",
   "metadata": {},
   "outputs": [
    {
     "data": {
      "text/html": [
       "<div>\n",
       "<style scoped>\n",
       "    .dataframe tbody tr th:only-of-type {\n",
       "        vertical-align: middle;\n",
       "    }\n",
       "\n",
       "    .dataframe tbody tr th {\n",
       "        vertical-align: top;\n",
       "    }\n",
       "\n",
       "    .dataframe thead th {\n",
       "        text-align: right;\n",
       "    }\n",
       "</style>\n",
       "<table border=\"1\" class=\"dataframe\">\n",
       "  <thead>\n",
       "    <tr style=\"text-align: right;\">\n",
       "      <th></th>\n",
       "      <th>Year</th>\n",
       "      <th>Population</th>\n",
       "      <th>Unemployment_rate</th>\n",
       "      <th>Dispense_rate</th>\n",
       "      <th>TOT_MALE</th>\n",
       "      <th>WA_MALE</th>\n",
       "      <th>BA_MALE</th>\n",
       "      <th>IA_MALE</th>\n",
       "      <th>AA_MALE</th>\n",
       "      <th>NA_MALE</th>\n",
       "      <th>TOM_MALE</th>\n",
       "      <th>NH_MALE</th>\n",
       "      <th>H_MALE</th>\n",
       "      <th>Urbanicity</th>\n",
       "      <th>Jail Population</th>\n",
       "      <th>Incarceration Rate per 100k</th>\n",
       "      <th>PovertyCount</th>\n",
       "      <th>PovertyPercentage</th>\n",
       "      <th>MedianHHI</th>\n",
       "    </tr>\n",
       "  </thead>\n",
       "  <tbody>\n",
       "    <tr>\n",
       "      <th>5902</th>\n",
       "      <td>2010.0</td>\n",
       "      <td>182265.0</td>\n",
       "      <td>9.9</td>\n",
       "      <td>143.8</td>\n",
       "      <td>89620.0</td>\n",
       "      <td>78717.0</td>\n",
       "      <td>8422.0</td>\n",
       "      <td>661.0</td>\n",
       "      <td>551.0</td>\n",
       "      <td>73.0</td>\n",
       "      <td>1196.0</td>\n",
       "      <td>85166.0</td>\n",
       "      <td>4454.0</td>\n",
       "      <td>2.0</td>\n",
       "      <td>734.54</td>\n",
       "      <td>624.90</td>\n",
       "      <td>24056.0</td>\n",
       "      <td>13.3</td>\n",
       "      <td>47618.0</td>\n",
       "    </tr>\n",
       "    <tr>\n",
       "      <th>5903</th>\n",
       "      <td>2010.0</td>\n",
       "      <td>57322.0</td>\n",
       "      <td>9.7</td>\n",
       "      <td>60.1</td>\n",
       "      <td>28385.0</td>\n",
       "      <td>27415.0</td>\n",
       "      <td>424.0</td>\n",
       "      <td>178.0</td>\n",
       "      <td>48.0</td>\n",
       "      <td>35.0</td>\n",
       "      <td>285.0</td>\n",
       "      <td>25801.0</td>\n",
       "      <td>2584.0</td>\n",
       "      <td>3.0</td>\n",
       "      <td>124.25</td>\n",
       "      <td>332.87</td>\n",
       "      <td>9358.0</td>\n",
       "      <td>16.5</td>\n",
       "      <td>42906.0</td>\n",
       "    </tr>\n",
       "    <tr>\n",
       "      <th>5904</th>\n",
       "      <td>2010.0</td>\n",
       "      <td>118572.0</td>\n",
       "      <td>11.2</td>\n",
       "      <td>182.5</td>\n",
       "      <td>57096.0</td>\n",
       "      <td>44125.0</td>\n",
       "      <td>11327.0</td>\n",
       "      <td>323.0</td>\n",
       "      <td>375.0</td>\n",
       "      <td>63.0</td>\n",
       "      <td>883.0</td>\n",
       "      <td>54969.0</td>\n",
       "      <td>2127.0</td>\n",
       "      <td>2.0</td>\n",
       "      <td>505.38</td>\n",
       "      <td>639.24</td>\n",
       "      <td>27152.0</td>\n",
       "      <td>23.5</td>\n",
       "      <td>37916.0</td>\n",
       "    </tr>\n",
       "    <tr>\n",
       "      <th>5905</th>\n",
       "      <td>2010.0</td>\n",
       "      <td>43643.0</td>\n",
       "      <td>10.1</td>\n",
       "      <td>114.7</td>\n",
       "      <td>21603.0</td>\n",
       "      <td>19011.0</td>\n",
       "      <td>2147.0</td>\n",
       "      <td>109.0</td>\n",
       "      <td>64.0</td>\n",
       "      <td>56.0</td>\n",
       "      <td>216.0</td>\n",
       "      <td>19623.0</td>\n",
       "      <td>1980.0</td>\n",
       "      <td>3.0</td>\n",
       "      <td>175.00</td>\n",
       "      <td>611.12</td>\n",
       "      <td>8813.0</td>\n",
       "      <td>20.4</td>\n",
       "      <td>38553.0</td>\n",
       "    </tr>\n",
       "    <tr>\n",
       "      <th>5906</th>\n",
       "      <td>2010.0</td>\n",
       "      <td>38319.0</td>\n",
       "      <td>11.6</td>\n",
       "      <td>145.7</td>\n",
       "      <td>19784.0</td>\n",
       "      <td>12173.0</td>\n",
       "      <td>6618.0</td>\n",
       "      <td>644.0</td>\n",
       "      <td>38.0</td>\n",
       "      <td>13.0</td>\n",
       "      <td>298.0</td>\n",
       "      <td>19331.0</td>\n",
       "      <td>453.0</td>\n",
       "      <td>1.0</td>\n",
       "      <td>185.12</td>\n",
       "      <td>730.49</td>\n",
       "      <td>9135.0</td>\n",
       "      <td>26.1</td>\n",
       "      <td>31365.0</td>\n",
       "    </tr>\n",
       "    <tr>\n",
       "      <th>...</th>\n",
       "      <td>...</td>\n",
       "      <td>...</td>\n",
       "      <td>...</td>\n",
       "      <td>...</td>\n",
       "      <td>...</td>\n",
       "      <td>...</td>\n",
       "      <td>...</td>\n",
       "      <td>...</td>\n",
       "      <td>...</td>\n",
       "      <td>...</td>\n",
       "      <td>...</td>\n",
       "      <td>...</td>\n",
       "      <td>...</td>\n",
       "      <td>...</td>\n",
       "      <td>...</td>\n",
       "      <td>...</td>\n",
       "      <td>...</td>\n",
       "      <td>...</td>\n",
       "      <td>...</td>\n",
       "    </tr>\n",
       "    <tr>\n",
       "      <th>13750</th>\n",
       "      <td>2018.0</td>\n",
       "      <td>103718.0</td>\n",
       "      <td>3.0</td>\n",
       "      <td>45.4</td>\n",
       "      <td>51691.0</td>\n",
       "      <td>49477.0</td>\n",
       "      <td>677.0</td>\n",
       "      <td>275.0</td>\n",
       "      <td>535.0</td>\n",
       "      <td>28.0</td>\n",
       "      <td>699.0</td>\n",
       "      <td>45581.0</td>\n",
       "      <td>6110.0</td>\n",
       "      <td>1.0</td>\n",
       "      <td>297.00</td>\n",
       "      <td>436.26</td>\n",
       "      <td>10114.0</td>\n",
       "      <td>10.1</td>\n",
       "      <td>64234.0</td>\n",
       "    </tr>\n",
       "    <tr>\n",
       "      <th>13751</th>\n",
       "      <td>2018.0</td>\n",
       "      <td>135693.0</td>\n",
       "      <td>2.6</td>\n",
       "      <td>48.2</td>\n",
       "      <td>67275.0</td>\n",
       "      <td>64370.0</td>\n",
       "      <td>871.0</td>\n",
       "      <td>255.0</td>\n",
       "      <td>889.0</td>\n",
       "      <td>31.0</td>\n",
       "      <td>859.0</td>\n",
       "      <td>65042.0</td>\n",
       "      <td>2233.0</td>\n",
       "      <td>3.0</td>\n",
       "      <td>229.00</td>\n",
       "      <td>262.63</td>\n",
       "      <td>6059.0</td>\n",
       "      <td>4.5</td>\n",
       "      <td>75799.0</td>\n",
       "    </tr>\n",
       "    <tr>\n",
       "      <th>13752</th>\n",
       "      <td>2018.0</td>\n",
       "      <td>403072.0</td>\n",
       "      <td>2.7</td>\n",
       "      <td>51.1</td>\n",
       "      <td>197976.0</td>\n",
       "      <td>183308.0</td>\n",
       "      <td>3632.0</td>\n",
       "      <td>640.0</td>\n",
       "      <td>7362.0</td>\n",
       "      <td>104.0</td>\n",
       "      <td>2930.0</td>\n",
       "      <td>188228.0</td>\n",
       "      <td>9748.0</td>\n",
       "      <td>3.0</td>\n",
       "      <td>532.00</td>\n",
       "      <td>206.18</td>\n",
       "      <td>19937.0</td>\n",
       "      <td>5.0</td>\n",
       "      <td>87333.0</td>\n",
       "    </tr>\n",
       "    <tr>\n",
       "      <th>13753</th>\n",
       "      <td>2018.0</td>\n",
       "      <td>171020.0</td>\n",
       "      <td>2.8</td>\n",
       "      <td>44.6</td>\n",
       "      <td>85991.0</td>\n",
       "      <td>78554.0</td>\n",
       "      <td>2644.0</td>\n",
       "      <td>701.0</td>\n",
       "      <td>2454.0</td>\n",
       "      <td>45.0</td>\n",
       "      <td>1593.0</td>\n",
       "      <td>82301.0</td>\n",
       "      <td>3690.0</td>\n",
       "      <td>2.0</td>\n",
       "      <td>310.00</td>\n",
       "      <td>272.00</td>\n",
       "      <td>16915.0</td>\n",
       "      <td>10.4</td>\n",
       "      <td>57785.0</td>\n",
       "    </tr>\n",
       "    <tr>\n",
       "      <th>13754</th>\n",
       "      <td>2018.0</td>\n",
       "      <td>79115.0</td>\n",
       "      <td>4.6</td>\n",
       "      <td>64.6</td>\n",
       "      <td>39876.0</td>\n",
       "      <td>37460.0</td>\n",
       "      <td>555.0</td>\n",
       "      <td>661.0</td>\n",
       "      <td>284.0</td>\n",
       "      <td>39.0</td>\n",
       "      <td>877.0</td>\n",
       "      <td>36305.0</td>\n",
       "      <td>3571.0</td>\n",
       "      <td>2.0</td>\n",
       "      <td>263.00</td>\n",
       "      <td>516.48</td>\n",
       "      <td>7677.0</td>\n",
       "      <td>9.9</td>\n",
       "      <td>64714.0</td>\n",
       "    </tr>\n",
       "  </tbody>\n",
       "</table>\n",
       "<p>7591 rows × 19 columns</p>\n",
       "</div>"
      ],
      "text/plain": [
       "         Year  Population  Unemployment_rate  Dispense_rate  TOT_MALE  \\\n",
       "5902   2010.0    182265.0                9.9          143.8   89620.0   \n",
       "5903   2010.0     57322.0                9.7           60.1   28385.0   \n",
       "5904   2010.0    118572.0               11.2          182.5   57096.0   \n",
       "5905   2010.0     43643.0               10.1          114.7   21603.0   \n",
       "5906   2010.0     38319.0               11.6          145.7   19784.0   \n",
       "...       ...         ...                ...            ...       ...   \n",
       "13750  2018.0    103718.0                3.0           45.4   51691.0   \n",
       "13751  2018.0    135693.0                2.6           48.2   67275.0   \n",
       "13752  2018.0    403072.0                2.7           51.1  197976.0   \n",
       "13753  2018.0    171020.0                2.8           44.6   85991.0   \n",
       "13754  2018.0     79115.0                4.6           64.6   39876.0   \n",
       "\n",
       "        WA_MALE  BA_MALE  IA_MALE  AA_MALE  NA_MALE  TOM_MALE   NH_MALE  \\\n",
       "5902    78717.0   8422.0    661.0    551.0     73.0    1196.0   85166.0   \n",
       "5903    27415.0    424.0    178.0     48.0     35.0     285.0   25801.0   \n",
       "5904    44125.0  11327.0    323.0    375.0     63.0     883.0   54969.0   \n",
       "5905    19011.0   2147.0    109.0     64.0     56.0     216.0   19623.0   \n",
       "5906    12173.0   6618.0    644.0     38.0     13.0     298.0   19331.0   \n",
       "...         ...      ...      ...      ...      ...       ...       ...   \n",
       "13750   49477.0    677.0    275.0    535.0     28.0     699.0   45581.0   \n",
       "13751   64370.0    871.0    255.0    889.0     31.0     859.0   65042.0   \n",
       "13752  183308.0   3632.0    640.0   7362.0    104.0    2930.0  188228.0   \n",
       "13753   78554.0   2644.0    701.0   2454.0     45.0    1593.0   82301.0   \n",
       "13754   37460.0    555.0    661.0    284.0     39.0     877.0   36305.0   \n",
       "\n",
       "       H_MALE  Urbanicity  Jail Population  Incarceration Rate per 100k  \\\n",
       "5902   4454.0         2.0           734.54                       624.90   \n",
       "5903   2584.0         3.0           124.25                       332.87   \n",
       "5904   2127.0         2.0           505.38                       639.24   \n",
       "5905   1980.0         3.0           175.00                       611.12   \n",
       "5906    453.0         1.0           185.12                       730.49   \n",
       "...       ...         ...              ...                          ...   \n",
       "13750  6110.0         1.0           297.00                       436.26   \n",
       "13751  2233.0         3.0           229.00                       262.63   \n",
       "13752  9748.0         3.0           532.00                       206.18   \n",
       "13753  3690.0         2.0           310.00                       272.00   \n",
       "13754  3571.0         2.0           263.00                       516.48   \n",
       "\n",
       "       PovertyCount  PovertyPercentage  MedianHHI  \n",
       "5902        24056.0               13.3    47618.0  \n",
       "5903         9358.0               16.5    42906.0  \n",
       "5904        27152.0               23.5    37916.0  \n",
       "5905         8813.0               20.4    38553.0  \n",
       "5906         9135.0               26.1    31365.0  \n",
       "...             ...                ...        ...  \n",
       "13750       10114.0               10.1    64234.0  \n",
       "13751        6059.0                4.5    75799.0  \n",
       "13752       19937.0                5.0    87333.0  \n",
       "13753       16915.0               10.4    57785.0  \n",
       "13754        7677.0                9.9    64714.0  \n",
       "\n",
       "[7591 rows x 19 columns]"
      ]
     },
     "execution_count": 65,
     "metadata": {},
     "output_type": "execute_result"
    }
   ],
   "source": [
    "# Filter to years 2010 - 2019\n",
    "geogon_dec = geogon_od[(geogon_od['Year'] >= 2010) & (geogon_od['Year'] <= 2019)]\n",
    "geogon_dec = geogon_dec.dropna()\n",
    "geogon_decy = geogon_dec.copy()\n",
    "\n",
    "# Dropping variables that we don't plan to include as covariates\n",
    "# Excluding female variables\n",
    "geogon_dec = geogon_dec.drop(['Deaths', 'Deathrate per 100', 'Crude Rate', 'Cruder Rate',\n",
    "                              'FIPS', 'State', 'County', 'geometry', 'SUMLEV', 'AGEGRP',\n",
    "                              'Longitude', 'Latitude', 'TOT_POP', 'TOT_FEMALE', 'WA_FEMALE',\n",
    "                              'BA_FEMALE', 'IA_FEMALE', 'AA_FEMALE', 'NA_FEMALE', 'NH_FEMALE',\n",
    "                              'TOM_FEMALE', 'H_FEMALE'], axis = 1)\n",
    "geogon_dec"
   ]
  },
  {
   "cell_type": "code",
   "execution_count": 70,
   "id": "466c699b",
   "metadata": {},
   "outputs": [
    {
     "name": "stderr",
     "output_type": "stream",
     "text": [
      "Features: 518507/519252"
     ]
    },
    {
     "name": "stdout",
     "output_type": "stream",
     "text": [
      "\n",
      "Best subset: (0, 2, 3, 8, 10, 11, 14, 15, 16, 18)\n"
     ]
    }
   ],
   "source": [
    "import numpy as np\n",
    "from sklearn.linear_model import LinearRegression\n",
    "from mlxtend.feature_selection import ExhaustiveFeatureSelector as EFS\n",
    "\n",
    "\n",
    "# Run exhaustive search with linear regression\n",
    "\n",
    "y = np.array(geogon_decy['Cruder Rate'])\n",
    "\n",
    "X = np.array(standardize(geogon_dec))\n",
    "\n",
    "lr = LinearRegression()\n",
    "\n",
    "efs = EFS(lr, \n",
    "          min_features=5,\n",
    "          max_features=19,\n",
    "          scoring='neg_mean_squared_error',\n",
    "          cv=5,\n",
    "          print_progress = True,\n",
    "          n_jobs = 2)\n",
    "\n",
    "efs.fit(X, y)\n",
    "\n",
    "print('Best MSE score: %.2f' % efs.best_score_ * (-1))\n",
    "print('Best subset:', efs.best_idx_)"
   ]
  },
  {
   "cell_type": "code",
   "execution_count": 79,
   "id": "435d0253",
   "metadata": {},
   "outputs": [
    {
     "data": {
      "text/plain": [
       "Index(['Year', 'Unemployment_rate', 'Dispense_rate', 'AA_MALE', 'TOM_MALE',\n",
       "       'NH_MALE', 'Jail Population', 'Incarceration Rate per 100k',\n",
       "       'PovertyCount', 'MedianHHI'],\n",
       "      dtype='object')"
      ]
     },
     "execution_count": 79,
     "metadata": {},
     "output_type": "execute_result"
    }
   ],
   "source": [
    "# Print the variables that EFS determined is the best subset\n",
    "geogon_dec.columns[[0, 2, 3, 8, 10, 11, 14, 15, 16, 18]]"
   ]
  },
  {
   "cell_type": "markdown",
   "id": "f8c6a398",
   "metadata": {},
   "source": [
    "## Calculating VIF"
   ]
  },
  {
   "cell_type": "markdown",
   "id": "c8f56fa0",
   "metadata": {},
   "source": [
    "### Manually chosen variables"
   ]
  },
  {
   "cell_type": "code",
   "execution_count": 15,
   "id": "2b2a8c7c",
   "metadata": {},
   "outputs": [
    {
     "name": "stderr",
     "output_type": "stream",
     "text": [
      "C:\\Users\\ashmj\\anaconda3\\lib\\site-packages\\statsmodels\\compat\\pandas.py:61: FutureWarning: pandas.Int64Index is deprecated and will be removed from pandas in a future version. Use pandas.Index with the appropriate dtype instead.\n",
      "  from pandas import Int64Index as NumericIndex\n"
     ]
    }
   ],
   "source": [
    "from statsmodels.stats.outliers_influence import variance_inflation_factor"
   ]
  },
  {
   "cell_type": "code",
   "execution_count": 14,
   "id": "19150144",
   "metadata": {},
   "outputs": [],
   "source": [
    "# Determining which variables to include when calculating VIF\n",
    "\n",
    "# Excluding string variables and ones that have high VIF\n",
    "\n",
    "noninclude_features = ['Year', 'FIPS', 'State', 'County', 'Latitude',\n",
    "                       'Longitude', 'geometry', 'Crude Rate', 'TOT_POP', 'AGEGRP', 'Jail Population',\n",
    "                       'Deathrate per 100', 'SUMLEV', 'TOT_MALE', 'BA_MALE', 'IA_MALE',\n",
    "                       'AA_MALE', 'NA_MALE', 'TOM_MALE', 'NH_MALE', 'H_MALE', 'TOT_FEMALE',\n",
    "                       'WA_FEMALE', 'BA_FEMALE', 'IA_FEMALE', 'AA_FEMALE', 'NA_FEMALE', 'TOM_FEMALE',\n",
    "                       'NH_FEMALE', 'H_FEMALE', 'Population', 'PovertyCount', 'Deaths', 'MedianHHI', 'Cruder Rate']\n",
    "geogon_num = geogon_od.drop(noninclude_features, axis = 1)\n",
    "geogon_num = geogon_num.dropna()"
   ]
  },
  {
   "cell_type": "code",
   "execution_count": 16,
   "id": "5d8fb9a4",
   "metadata": {},
   "outputs": [
    {
     "name": "stdout",
     "output_type": "stream",
     "text": [
      "                       feature        VIF\n",
      "0            Unemployment_rate   8.926970\n",
      "1                Dispense_rate   8.362615\n",
      "2                      WA_MALE   1.726278\n",
      "3                   Urbanicity   4.999564\n",
      "4  Incarceration Rate per 100k   4.045233\n",
      "5            PovertyPercentage  11.713832\n"
     ]
    }
   ],
   "source": [
    "# VIF dataframe\n",
    "vif_data = pd.DataFrame()\n",
    "vif_data[\"feature\"] = geogon_num.columns\n",
    "  \n",
    "# calculating VIF for each feature\n",
    "vif_data[\"VIF\"] = [variance_inflation_factor(geogon_num.values, i)\n",
    "                          for i in range(len(geogon_num.columns))]\n",
    "  \n",
    "print(vif_data)"
   ]
  },
  {
   "cell_type": "markdown",
   "id": "a6fad1d1",
   "metadata": {},
   "source": [
    "### Best Subset Variables"
   ]
  },
  {
   "cell_type": "code",
   "execution_count": 83,
   "id": "d2c0f69b",
   "metadata": {},
   "outputs": [
    {
     "name": "stdout",
     "output_type": "stream",
     "text": [
      "                       feature        VIF\n",
      "0                         Year  68.784791\n",
      "1            Unemployment_rate   8.954940\n",
      "2                Dispense_rate  10.116277\n",
      "3                      AA_MALE   5.854949\n",
      "4                     TOM_MALE  14.211463\n",
      "5                      NH_MALE  14.546340\n",
      "6              Jail Population   9.974360\n",
      "7  Incarceration Rate per 100k   4.811989\n",
      "8                 PovertyCount  13.589621\n",
      "9                    MedianHHI  31.760316\n"
     ]
    }
   ],
   "source": [
    "geogon_best = geogon_dec[['Year', 'Unemployment_rate', 'Dispense_rate', 'AA_MALE', 'TOM_MALE',\n",
    "       'NH_MALE', 'Jail Population', 'Incarceration Rate per 100k',\n",
    "       'PovertyCount', 'MedianHHI']]\n",
    "\n",
    "# VIF dataframe\n",
    "vif_data = pd.DataFrame()\n",
    "vif_data[\"feature\"] = geogon_best.columns\n",
    "  \n",
    "# calculating VIF for each feature\n",
    "vif_data[\"VIF\"] = [variance_inflation_factor(geogon_best.values, i)\n",
    "                          for i in range(len(geogon_best.columns))]\n",
    "  \n",
    "print(vif_data)"
   ]
  },
  {
   "cell_type": "markdown",
   "id": "d6bfa956",
   "metadata": {},
   "source": [
    "Looking at all the VIF scores, there is high multicollinearity within the chosen subset (VIF > 4). The `XX_MALE` columns are likely correlated with each other, since they are all a proportion of the greater population. It seems like `Year` has the highest multicollinearity with other variables because each variable's pattern changes significantly depending on the year. `Jail Population` and `Incarceration Rate per 100k` would also be correlated since they are both variables describing the jail population. `Poverty Count`, `MedianHHI`, and `Unemployment_rate` would also be correlated since they are indicators of county wealth. Some options to decrease the multicollinearity would be to drop certain columns or conduct PCA/LASSO/Ridge Regression."
   ]
  }
 ],
 "metadata": {
  "kernelspec": {
   "display_name": "Python 3 (ipykernel)",
   "language": "python",
   "name": "python3"
  },
  "language_info": {
   "codemirror_mode": {
    "name": "ipython",
    "version": 3
   },
   "file_extension": ".py",
   "mimetype": "text/x-python",
   "name": "python",
   "nbconvert_exporter": "python",
   "pygments_lexer": "ipython3",
   "version": "3.8.12"
  },
  "toc": {
   "base_numbering": 1,
   "nav_menu": {},
   "number_sections": true,
   "sideBar": true,
   "skip_h1_title": false,
   "title_cell": "Table of Contents",
   "title_sidebar": "Contents",
   "toc_cell": false,
   "toc_position": {
    "height": "calc(100% - 180px)",
    "left": "10px",
    "top": "150px",
    "width": "220.667px"
   },
   "toc_section_display": true,
   "toc_window_display": true
  }
 },
 "nbformat": 4,
 "nbformat_minor": 5
}
