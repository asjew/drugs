{
 "cells": [
  {
   "cell_type": "code",
   "execution_count": 1,
   "id": "8d34b2f6",
   "metadata": {},
   "outputs": [],
   "source": [
    "import os\n",
    "import pandas as pd\n",
    "import numpy as np\n",
    "import matplotlib.pyplot as plt\n",
    "import seaborn as sns"
   ]
  },
  {
   "cell_type": "code",
   "execution_count": 2,
   "id": "be153110",
   "metadata": {},
   "outputs": [],
   "source": [
    "os.chdir(os.path.dirname(os.getcwd()))\n",
    "os.chdir(os.path.dirname(os.getcwd()))\n",
    "os.chdir('Data')"
   ]
  },
  {
   "cell_type": "code",
   "execution_count": 15,
   "id": "eb09c321",
   "metadata": {},
   "outputs": [
    {
     "data": {
      "text/plain": [
       "0          Data suppressed\n",
       "1       Data not available\n",
       "2          Data suppressed\n",
       "3       Data not available\n",
       "4       Data not available\n",
       "               ...        \n",
       "3217    Data not available\n",
       "3218    Data not available\n",
       "3219    Data not available\n",
       "3220    Data not available\n",
       "3221    Data not available\n",
       "Name: 2021_rate, Length: 3222, dtype: object"
      ]
     },
     "execution_count": 15,
     "metadata": {},
     "output_type": "execute_result"
    }
   ],
   "source": [
    "df = pd.read_csv('hiv_county_data.csv', skiprows = 12)\n",
    "df.columns = ['county',\n",
    "             '2008', '2008_rate',\n",
    "             '2009', '2009_rate',\n",
    "             '2010', '2010_rate',\n",
    "             '2011', '2011_rate',\n",
    "             '2012', '2012_rate',\n",
    "             '2013', '2013_rate',\n",
    "             '2014', '2014_rate',\n",
    "             '2015', '2015_rate',\n",
    "             '2016', '2016_rate',\n",
    "             '2017', '2017_rate',\n",
    "             '2018', '2018_rate',\n",
    "             '2019', '2019_rate',\n",
    "             '2020', '2020_rate',\n",
    "             '2021', '2021_rate',]\n",
    "def isnumber(x):\n",
    "    try:\n",
    "        float(x)\n",
    "        return True\n",
    "    except:\n",
    "        return False\n",
    "#df[df.applymap(isnumber)]\n",
    "df.iloc[:,-1]"
   ]
  }
 ],
 "metadata": {
  "kernelspec": {
   "display_name": "Python 3 (ipykernel)",
   "language": "python",
   "name": "python3"
  },
  "language_info": {
   "codemirror_mode": {
    "name": "ipython",
    "version": 3
   },
   "file_extension": ".py",
   "mimetype": "text/x-python",
   "name": "python",
   "nbconvert_exporter": "python",
   "pygments_lexer": "ipython3",
   "version": "3.8.3"
  }
 },
 "nbformat": 4,
 "nbformat_minor": 5
}
