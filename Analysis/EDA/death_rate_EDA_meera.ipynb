{
 "cells": [
  {
   "cell_type": "markdown",
   "id": "39e9c3e6",
   "metadata": {},
   "source": [
    "## Initial EDA for death rate csv \n",
    "\n",
    "First we are just importing the neccessary libraries "
   ]
  },
  {
   "cell_type": "code",
   "execution_count": 18,
   "id": "6dda2333",
   "metadata": {},
   "outputs": [],
   "source": [
    "import numpy as np\n",
    "import pandas as pd\n",
    "import csv "
   ]
  },
  {
   "cell_type": "markdown",
   "id": "20f23480",
   "metadata": {},
   "source": [
    "First we want to read in the data and do some possible data cleaning before doing any analysis and such. The analysis will also shed insight to any irregularities in the data. "
   ]
  },
  {
   "cell_type": "code",
   "execution_count": 19,
   "id": "b38d4da7",
   "metadata": {},
   "outputs": [
    {
     "name": "stdout",
     "output_type": "stream",
     "text": [
      "   Year                County   FIPS  Deathrate  Population  Poverty\n",
      "0  1999  Abbeville County, SC  45001          1       25921   3257.0\n",
      "1  1999     Acadia Parish, LA  22001          7       58762  12461.0\n",
      "2  1999   Accomack County, VA  51001          5       37614   6107.0\n",
      "3  1999        Ada County, ID  16001          7      294292  24964.0\n",
      "4  1999      Adair County, IA  19001          1        8298    697.0\n",
      "(50164, 6)\n"
     ]
    },
    {
     "data": {
      "text/plain": [
       "Year           0\n",
       "County         0\n",
       "FIPS           0\n",
       "Deathrate      0\n",
       "Population     0\n",
       "Poverty       11\n",
       "dtype: int64"
      ]
     },
     "execution_count": 19,
     "metadata": {},
     "output_type": "execute_result"
    }
   ],
   "source": [
    "#Just reading in the data\n",
    "death_rate_data = pd.read_csv(\"deathrate.csv\")\n",
    "\n",
    "#This is dropping that first row.. \n",
    "death_rate_data = death_rate_data.iloc[:, 1:]\n",
    "\n",
    "#Seeing the first five columns of the data \n",
    "print(death_rate_data.head())\n",
    "\n",
    "#This is printing the dimensions of the data \n",
    "print(death_rate_data.shape)"
   ]
  },
  {
   "cell_type": "code",
   "execution_count": 21,
   "id": "da9fb236",
   "metadata": {},
   "outputs": [
    {
     "data": {
      "text/plain": [
       "Year           0\n",
       "County         0\n",
       "FIPS           0\n",
       "Deathrate      0\n",
       "Population     0\n",
       "Poverty       11\n",
       "dtype: int64"
      ]
     },
     "execution_count": 21,
     "metadata": {},
     "output_type": "execute_result"
    }
   ],
   "source": [
    "#checking to see if there are any missing values in the data \n",
    "\n",
    "death_rate_data.isnull().sum()"
   ]
  },
  {
   "cell_type": "markdown",
   "id": "8b8ee7fa",
   "metadata": {},
   "source": [
    "We see that there are only 11 missing values .. in the poverty column ... that is pretty good ?! \n",
    "This will have to be dealt with if we do analysis with the poverty data...\n",
    "\n",
    "\n",
    "We now look at the different types of data that we are working with ... this is useful so we can keep track for when doing different analysis. "
   ]
  },
  {
   "cell_type": "code",
   "execution_count": 23,
   "id": "c0bf1d27",
   "metadata": {},
   "outputs": [
    {
     "name": "stdout",
     "output_type": "stream",
     "text": [
      "Year            int64\n",
      "County         object\n",
      "FIPS            int64\n",
      "Deathrate       int64\n",
      "Population      int64\n",
      "Poverty       float64\n",
      "dtype: object\n"
     ]
    }
   ],
   "source": [
    "print(death_rate_data.dtypes)"
   ]
  },
  {
   "cell_type": "markdown",
   "id": "c9b61a1f",
   "metadata": {},
   "source": [
    "Making a correlation matrix ... "
   ]
  },
  {
   "cell_type": "code",
   "execution_count": 26,
   "id": "23ba599b",
   "metadata": {},
   "outputs": [
    {
     "name": "stdout",
     "output_type": "stream",
     "text": [
      "                Year      FIPS  Deathrate  Population   Poverty\n",
      "Year        1.000000  0.000133   0.559916    0.012588  0.038598\n",
      "FIPS        0.000133  1.000000   0.001941   -0.057785 -0.053475\n",
      "Deathrate   0.559916  0.001941   1.000000    0.094421  0.108382\n",
      "Population  0.012588 -0.057785   0.094421    1.000000  0.959185\n",
      "Poverty     0.038598 -0.053475   0.108382    0.959185  1.000000\n"
     ]
    }
   ],
   "source": [
    "correlations = death_rate_data.corr(method = 'pearson')\n",
    "print(correlations)"
   ]
  },
  {
   "cell_type": "markdown",
   "id": "486561a5",
   "metadata": {},
   "source": [
    "Also it is important to check for skewness in the data... Data may be shifted to the left or right and before you do any sort of analysis you will want to check for this.... "
   ]
  },
  {
   "cell_type": "code",
   "execution_count": 27,
   "id": "b36fb99d",
   "metadata": {},
   "outputs": [
    {
     "name": "stdout",
     "output_type": "stream",
     "text": [
      "Year           0.000117\n",
      "FIPS          -0.078924\n",
      "Deathrate      0.607581\n",
      "Population    14.770130\n",
      "Poverty       18.120147\n",
      "dtype: float64\n"
     ]
    }
   ],
   "source": [
    "print(death_rate_data.skew())\n",
    "# A value that is near zero has less of a skew otherwise \n",
    "#with a positive or negative value it has more of a skew or not "
   ]
  },
  {
   "cell_type": "markdown",
   "id": "5ce5bb60",
   "metadata": {},
   "source": [
    "we see a skew with both poverty and population ... hmmm\n",
    "\n",
    "Next we are just going to graph each individual varaible.... ? "
   ]
  },
  {
   "cell_type": "code",
   "execution_count": 31,
   "id": "beb07539",
   "metadata": {},
   "outputs": [
    {
     "data": {
      "image/png": "[encoded data removed]",
      "text/plain": [
       "<Figure size 432x288 with 6 Axes>"
      ]
     },
     "metadata": {
      "needs_background": "light"
     },
     "output_type": "display_data"
    }
   ],
   "source": [
    "from matplotlib import pyplot \n",
    "\n",
    "death_rate_data.hist()\n",
    "pyplot.tight_layout()\n",
    "pyplot.show()\n",
    "\n"
   ]
  },
  {
   "cell_type": "code",
   "execution_count": 34,
   "id": "dbf25950",
   "metadata": {},
   "outputs": [
    {
     "data": {
      "image/png": "[encoded data removed]",
      "text/plain": [
       "<Figure size 432x288 with 9 Axes>"
      ]
     },
     "metadata": {
      "needs_background": "light"
     },
     "output_type": "display_data"
    }
   ],
   "source": [
    "death_rate_data.plot(kind = 'density', subplots = True, layout=(3,3), sharex=False)\n",
    "pyplot.tight_layout()\n",
    "pyplot.show()"
   ]
  },
  {
   "cell_type": "markdown",
   "id": "4640c612",
   "metadata": {},
   "source": [
    "Trying out some density plots .... hmm interesting isnt it \n",
    "\n",
    "Seeing if there are any outliers with boxplots I suppose? "
   ]
  },
  {
   "cell_type": "code",
   "execution_count": 36,
   "id": "0333cdfc",
   "metadata": {},
   "outputs": [
    {
     "data": {
      "image/png": "[encoded data removed]",
      "text/plain": [
       "<Figure size 432x288 with 9 Axes>"
      ]
     },
     "metadata": {
      "needs_background": "light"
     },
     "output_type": "display_data"
    }
   ],
   "source": [
    "death_rate_data.plot(kind = 'box', subplots = True, layout=(3,3), sharex=False, sharey = False)\n",
    "pyplot.tight_layout()\n",
    "pyplot.show()"
   ]
  },
  {
   "cell_type": "markdown",
   "id": "d415d092",
   "metadata": {},
   "source": [
    "Want to do a barplot by County... that would be intersting okay doing that in the following line LOL dont do the below there is a gazillion different counties haha ... okay nvm "
   ]
  },
  {
   "cell_type": "code",
   "execution_count": 37,
   "id": "958291c6",
   "metadata": {},
   "outputs": [
    {
     "data": {
      "image/png": "[encoded data removed]",
      "text/plain": [
       "<Figure size 432x288 with 1 Axes>"
      ]
     },
     "metadata": {
      "needs_background": "light"
     },
     "output_type": "display_data"
    }
   ],
   "source": [
    "# Let's calculate the percentage of each County status category.\n",
    "#death_rate_data.County.value_counts(normalize=True)\n",
    "\n",
    "#plot the bar graph of percentage County categories\n",
    "#death_rate_data.County.value_counts(normalize=True).plot.barh()\n",
    "#pyplot.show()"
   ]
  },
  {
   "cell_type": "markdown",
   "id": "6f3fb064",
   "metadata": {},
   "source": [
    "We can try plotting different variables against each other to see if there is some sort of relationship? \n",
    "Maybe an interesting one would be doing poverty vs. deaths ... This could be a relationship what we may explore further in the future too. "
   ]
  },
  {
   "cell_type": "code",
   "execution_count": 39,
   "id": "1bbb257e",
   "metadata": {},
   "outputs": [
    {
     "data": {
      "image/png": "[encoded data removed]",
      "text/plain": [
       "<Figure size 432x288 with 1 Axes>"
      ]
     },
     "metadata": {
      "needs_background": "light"
     },
     "output_type": "display_data"
    }
   ],
   "source": [
    "pyplot.scatter(death_rate_data.Poverty,death_rate_data.Deathrate)\n",
    "pyplot.show()\n"
   ]
  },
  {
   "cell_type": "markdown",
   "id": "5a59634f",
   "metadata": {},
   "source": [
    "## TRYING new data set stuff "
   ]
  },
  {
   "cell_type": "code",
   "execution_count": 9,
   "id": "5bcf67ea",
   "metadata": {
    "scrolled": true
   },
   "outputs": [],
   "source": [
    "import pandas as pd\n",
    "import numpy as np \n",
    "\n",
    "import os\n",
    "\n",
    "need_to_clean = '/Users/meera/Documents/drugs/Data/age_ethinicity_data.csv'\n",
    "\n",
    "data = pd.read_csv(need_to_clean)\n",
    "\n",
    "data = data[['SUMLEV', 'STNAME', 'CTYNAME', 'YEAR', 'AGEGRP', 'TOT_POP', 'TOT_MALE', 'TOT_FEMALE', 'WA_MALE', 'WA_FEMALE',\n",
    "             'BA_MALE', 'BA_FEMALE', 'IA_MALE', 'IA_FEMALE', 'AA_MALE', 'AA_FEMALE', 'NA_MALE', 'NA_FEMALE', 'TOM_MALE',\n",
    "             'TOM_FEMALE', 'NH_MALE', 'NH_FEMALE', 'H_MALE', 'H_FEMALE']]\n",
    "\n",
    "data['YEAR'] = data['YEAR'].replace([3], 2010.0)\n",
    "data['YEAR'] = data['YEAR'].replace([4], 2011.0)\n",
    "data['YEAR'] = data['YEAR'].replace([5], 2012.0)\n",
    "data['YEAR'] = data['YEAR'].replace([6], 2013.0)\n",
    "data['YEAR'] = data['YEAR'].replace([7], 2014.0)\n",
    "data['YEAR'] = data['YEAR'].replace([8], 2015.0)\n",
    "data['YEAR'] = data['YEAR'].replace([9], 2016.0)\n",
    "data['YEAR'] = data['YEAR'].replace([10], 2017.0)\n",
    "data['YEAR'] = data['YEAR'].replace([11], 2018.0)\n",
    "data['YEAR'] = data['YEAR'].replace([12], 2019.0)\n",
    "\n",
    "\n",
    "#now we want to drop the rows that hav year == 2 or year == 4 \n",
    "#this is because these columns correspond to an estimated population that is in 2010 ... \n",
    "\n",
    "data = data[data.YEAR != 2]\n",
    "data = data[data.YEAR != 1]\n",
    "\n",
    "\n",
    "#Changing some of the column names \n",
    "data = data.rename(columns={'STNAME': 'State', 'CTYNAME': 'County', 'YEAR': 'Year'})\n",
    "\n",
    "#This shows that Baldwin County exists \n",
    "#data[(data.County == \"Baldwin County\")]\n",
    "\n",
    "data.to_csv(\"ethnicity_age.csv\", index=False)\n",
    "\n",
    "#do a rigth join yes on both Year and County but what do we do with the AGEGRP ???!?! "
   ]
  },
  {
   "cell_type": "code",
   "execution_count": 2,
   "id": "8eb85882",
   "metadata": {
    "scrolled": true
   },
   "outputs": [
    {
     "data": {
      "text/html": [
       "<div>\n",
       "<style scoped>\n",
       "    .dataframe tbody tr th:only-of-type {\n",
       "        vertical-align: middle;\n",
       "    }\n",
       "\n",
       "    .dataframe tbody tr th {\n",
       "        vertical-align: top;\n",
       "    }\n",
       "\n",
       "    .dataframe thead th {\n",
       "        text-align: right;\n",
       "    }\n",
       "</style>\n",
       "<table border=\"1\" class=\"dataframe\">\n",
       "  <thead>\n",
       "    <tr style=\"text-align: right;\">\n",
       "      <th></th>\n",
       "      <th>Year</th>\n",
       "      <th>State</th>\n",
       "      <th>State Code</th>\n",
       "      <th>County</th>\n",
       "      <th>County Code</th>\n",
       "      <th>Deaths</th>\n",
       "      <th>Population</th>\n",
       "      <th>Crude Rate</th>\n",
       "      <th>Cruder Rate</th>\n",
       "      <th>Deathrate per 100</th>\n",
       "    </tr>\n",
       "  </thead>\n",
       "  <tbody>\n",
       "    <tr>\n",
       "      <th>0</th>\n",
       "      <td>1999.0</td>\n",
       "      <td>Alabama</td>\n",
       "      <td>1.0</td>\n",
       "      <td>Baldwin County</td>\n",
       "      <td>1003.0</td>\n",
       "      <td>11.0</td>\n",
       "      <td>137555.0</td>\n",
       "      <td>Unreliable</td>\n",
       "      <td>7.996801</td>\n",
       "      <td>0.007997</td>\n",
       "    </tr>\n",
       "    <tr>\n",
       "      <th>1</th>\n",
       "      <td>1999.0</td>\n",
       "      <td>Alabama</td>\n",
       "      <td>1.0</td>\n",
       "      <td>Jefferson County</td>\n",
       "      <td>1073.0</td>\n",
       "      <td>34.0</td>\n",
       "      <td>662845.0</td>\n",
       "      <td>5.13</td>\n",
       "      <td>5.129404</td>\n",
       "      <td>0.005129</td>\n",
       "    </tr>\n",
       "    <tr>\n",
       "      <th>2</th>\n",
       "      <td>1999.0</td>\n",
       "      <td>Alabama</td>\n",
       "      <td>1.0</td>\n",
       "      <td>Madison County</td>\n",
       "      <td>1089.0</td>\n",
       "      <td>10.0</td>\n",
       "      <td>274693.0</td>\n",
       "      <td>Unreliable</td>\n",
       "      <td>3.640428</td>\n",
       "      <td>0.003640</td>\n",
       "    </tr>\n",
       "    <tr>\n",
       "      <th>3</th>\n",
       "      <td>1999.0</td>\n",
       "      <td>Alabama</td>\n",
       "      <td>1.0</td>\n",
       "      <td>Mobile County</td>\n",
       "      <td>1097.0</td>\n",
       "      <td>28.0</td>\n",
       "      <td>399323.0</td>\n",
       "      <td>7.01</td>\n",
       "      <td>7.011868</td>\n",
       "      <td>0.007012</td>\n",
       "    </tr>\n",
       "    <tr>\n",
       "      <th>4</th>\n",
       "      <td>1999.0</td>\n",
       "      <td>Alaska</td>\n",
       "      <td>2.0</td>\n",
       "      <td>Anchorage Borough</td>\n",
       "      <td>2020.0</td>\n",
       "      <td>21.0</td>\n",
       "      <td>259348.0</td>\n",
       "      <td>8.10</td>\n",
       "      <td>8.097228</td>\n",
       "      <td>0.008097</td>\n",
       "    </tr>\n",
       "    <tr>\n",
       "      <th>...</th>\n",
       "      <td>...</td>\n",
       "      <td>...</td>\n",
       "      <td>...</td>\n",
       "      <td>...</td>\n",
       "      <td>...</td>\n",
       "      <td>...</td>\n",
       "      <td>...</td>\n",
       "      <td>...</td>\n",
       "      <td>...</td>\n",
       "      <td>...</td>\n",
       "    </tr>\n",
       "    <tr>\n",
       "      <th>15891</th>\n",
       "      <td>2020.0</td>\n",
       "      <td>Wisconsin</td>\n",
       "      <td>55.0</td>\n",
       "      <td>Winnebago County</td>\n",
       "      <td>55139.0</td>\n",
       "      <td>38.0</td>\n",
       "      <td>171631.0</td>\n",
       "      <td>22.14</td>\n",
       "      <td>22.140522</td>\n",
       "      <td>0.022141</td>\n",
       "    </tr>\n",
       "    <tr>\n",
       "      <th>15892</th>\n",
       "      <td>2020.0</td>\n",
       "      <td>Wisconsin</td>\n",
       "      <td>55.0</td>\n",
       "      <td>Wood County</td>\n",
       "      <td>55141.0</td>\n",
       "      <td>18.0</td>\n",
       "      <td>72560.0</td>\n",
       "      <td>Unreliable</td>\n",
       "      <td>24.807056</td>\n",
       "      <td>0.024807</td>\n",
       "    </tr>\n",
       "    <tr>\n",
       "      <th>15893</th>\n",
       "      <td>2020.0</td>\n",
       "      <td>Wyoming</td>\n",
       "      <td>56.0</td>\n",
       "      <td>Laramie County</td>\n",
       "      <td>56021.0</td>\n",
       "      <td>17.0</td>\n",
       "      <td>100595.0</td>\n",
       "      <td>Unreliable</td>\n",
       "      <td>16.899448</td>\n",
       "      <td>0.016899</td>\n",
       "    </tr>\n",
       "    <tr>\n",
       "      <th>15894</th>\n",
       "      <td>2020.0</td>\n",
       "      <td>Wyoming</td>\n",
       "      <td>56.0</td>\n",
       "      <td>Natrona County</td>\n",
       "      <td>56025.0</td>\n",
       "      <td>16.0</td>\n",
       "      <td>80815.0</td>\n",
       "      <td>Unreliable</td>\n",
       "      <td>19.798305</td>\n",
       "      <td>0.019798</td>\n",
       "    </tr>\n",
       "    <tr>\n",
       "      <th>15895</th>\n",
       "      <td>2020.0</td>\n",
       "      <td>Wyoming</td>\n",
       "      <td>56.0</td>\n",
       "      <td>Sweetwater County</td>\n",
       "      <td>56037.0</td>\n",
       "      <td>15.0</td>\n",
       "      <td>42673.0</td>\n",
       "      <td>Unreliable</td>\n",
       "      <td>35.151032</td>\n",
       "      <td>0.035151</td>\n",
       "    </tr>\n",
       "  </tbody>\n",
       "</table>\n",
       "<p>15896 rows × 10 columns</p>\n",
       "</div>"
      ],
      "text/plain": [
       "         Year      State  State Code             County  County Code  Deaths  \\\n",
       "0      1999.0    Alabama         1.0     Baldwin County       1003.0    11.0   \n",
       "1      1999.0    Alabama         1.0   Jefferson County       1073.0    34.0   \n",
       "2      1999.0    Alabama         1.0     Madison County       1089.0    10.0   \n",
       "3      1999.0    Alabama         1.0      Mobile County       1097.0    28.0   \n",
       "4      1999.0     Alaska         2.0  Anchorage Borough       2020.0    21.0   \n",
       "...       ...        ...         ...                ...          ...     ...   \n",
       "15891  2020.0  Wisconsin        55.0   Winnebago County      55139.0    38.0   \n",
       "15892  2020.0  Wisconsin        55.0        Wood County      55141.0    18.0   \n",
       "15893  2020.0    Wyoming        56.0     Laramie County      56021.0    17.0   \n",
       "15894  2020.0    Wyoming        56.0     Natrona County      56025.0    16.0   \n",
       "15895  2020.0    Wyoming        56.0  Sweetwater County      56037.0    15.0   \n",
       "\n",
       "       Population  Crude Rate  Cruder Rate  Deathrate per 100  \n",
       "0        137555.0  Unreliable     7.996801           0.007997  \n",
       "1        662845.0        5.13     5.129404           0.005129  \n",
       "2        274693.0  Unreliable     3.640428           0.003640  \n",
       "3        399323.0        7.01     7.011868           0.007012  \n",
       "4        259348.0        8.10     8.097228           0.008097  \n",
       "...           ...         ...          ...                ...  \n",
       "15891    171631.0       22.14    22.140522           0.022141  \n",
       "15892     72560.0  Unreliable    24.807056           0.024807  \n",
       "15893    100595.0  Unreliable    16.899448           0.016899  \n",
       "15894     80815.0  Unreliable    19.798305           0.019798  \n",
       "15895     42673.0  Unreliable    35.151032           0.035151  \n",
       "\n",
       "[15896 rows x 10 columns]"
      ]
     },
     "execution_count": 2,
     "metadata": {},
     "output_type": "execute_result"
    }
   ],
   "source": [
    "#This is Rhiann's data set \n",
    "overall_data = pd.read_csv(\"/Users/meera/Documents/drugs/Data/od_deaths.csv\")\n",
    "\n",
    "overall_data.head()\n",
    "\n",
    "overall_data.drop(columns = overall_data.columns[0])"
   ]
  }
 ],
 "metadata": {
  "kernelspec": {
   "display_name": "Python 3",
   "language": "python",
   "name": "python3"
  },
  "language_info": {
   "codemirror_mode": {
    "name": "ipython",
    "version": 3
   },
   "file_extension": ".py",
   "mimetype": "text/x-python",
   "name": "python",
   "nbconvert_exporter": "python",
   "pygments_lexer": "ipython3",
   "version": "3.8.8"
  }
 },
 "nbformat": 4,
 "nbformat_minor": 5
}
