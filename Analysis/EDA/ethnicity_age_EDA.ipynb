{
 "cells": [
  {
   "cell_type": "code",
   "execution_count": 20,
   "id": "d2060329",
   "metadata": {},
   "outputs": [],
   "source": [
    "import pandas as pd\n",
    "import numpy as np \n",
    "import zipfile\n",
    "\n",
    "zf = zipfile.ZipFile('/Users/meera/Documents/drugs/Data/ethnicity_age.csv.zip') \n",
    "age_eth = pd.read_csv(zf.open('ethnicity_age.csv'))\n",
    "\n",
    "age_eth.head()\n",
    "\n",
    "#float(\"{0:.2f}\".format(x))\n",
    "\n",
    "age_eth['County_Code'] = age_eth['STATE']*1000 + age_eth['COUNTY']\n",
    "\n",
    "age_eth.astype({'County_Code': float})\n",
    "\n",
    "age_eth.to_csv(\"ethnicity_age.csv\", index=False)"
   ]
  },
  {
   "cell_type": "code",
   "execution_count": null,
   "id": "e85778d7",
   "metadata": {},
   "outputs": [],
   "source": []
  }
 ],
 "metadata": {
  "kernelspec": {
   "display_name": "Python 3",
   "language": "python",
   "name": "python3"
  },
  "language_info": {
   "codemirror_mode": {
    "name": "ipython",
    "version": 3
   },
   "file_extension": ".py",
   "mimetype": "text/x-python",
   "name": "python",
   "nbconvert_exporter": "python",
   "pygments_lexer": "ipython3",
   "version": "3.8.8"
  }
 },
 "nbformat": 4,
 "nbformat_minor": 5
}
