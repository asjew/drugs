{
 "cells": [
  {
   "cell_type": "code",
   "execution_count": 1,
   "id": "0a053532",
   "metadata": {},
   "outputs": [],
   "source": [
    "import os\n",
    "import pandas as pd\n",
    "import numpy as np\n",
    "import matplotlib.pyplot as plt\n",
    "import seaborn as sns"
   ]
  },
  {
   "cell_type": "code",
   "execution_count": 2,
   "id": "4ba790f1",
   "metadata": {},
   "outputs": [],
   "source": [
    "os.chdir(os.path.dirname(os.getcwd()))\n",
    "os.chdir(os.path.dirname(os.getcwd()))\n",
    "os.chdir('Data')"
   ]
  },
  {
   "cell_type": "code",
   "execution_count": 3,
   "id": "f2a74016",
   "metadata": {},
   "outputs": [],
   "source": [
    "a = pd.read_csv('Unemployment.csv')\n",
    "a.columns = ['FIPS', 'State', 'County', '2000', '2001', '2002', '2003', '2004', '2005', '2006',\n",
    "            '2007', '2008', '2009', '2010', '2011', '2012', '2013', '2014', '2015', '2016', '2017',\n",
    "            '2018', '2019', '2020']\n",
    "b = pd.melt(a, id_vars = ['FIPS', 'State', 'County'], value_vars = ['2000', '2001', '2002', '2003', '2004', '2005', '2006',\n",
    "            '2007', '2008', '2009', '2010', '2011', '2012', '2013', '2014', '2015', '2016', '2017',\n",
    "            '2018', '2019', '2020'])\n",
    "b.columns = ['FIPS', 'State', 'County', 'Year', 'Unemployment_rate']\n",
    "b.to_csv('unemployment_clean.csv', index = False)"
   ]
  },
  {
   "cell_type": "code",
   "execution_count": 4,
   "id": "d8177b58",
   "metadata": {},
   "outputs": [],
   "source": [
    "df = pd.read_csv('unemployment_clean.csv')\n",
    "df = df.drop('State', axis = 1)\n",
    "df.columns = ['County Code', 'County', 'Year', 'Unemployment_rate']\n",
    "unemploy = df[['County Code', 'Year', 'Unemployment_rate']]\n",
    "od_deaths_df = pd.read_csv('od_deaths.csv')\n",
    "opioid_df = pd.read_csv('opioid_dispense.csv')\n",
    "dispenses = opioid_df[['Year', 'FIPS', 'dispenserate100']]\n",
    "dispenses.columns = ['Year', 'County Code', 'Dispense_rate']"
   ]
  },
  {
   "cell_type": "code",
   "execution_count": 5,
   "id": "11163aaa",
   "metadata": {},
   "outputs": [],
   "source": [
    "eth_age = pd.read_csv('ethnicity_age.csv')\n",
    "eth_age2 = eth_age.drop(['State', 'County', 'COUNTY', 'STATE'], axis = 1)\n",
    "eth_age3 = eth_age2.rename(columns = {'County_Code': 'County Code'})"
   ]
  },
  {
   "cell_type": "code",
   "execution_count": 6,
   "id": "267664c2",
   "metadata": {},
   "outputs": [],
   "source": [
    "merged = od_deaths_df.merge(unemploy, on = ['County Code', 'Year'], how = 'left')\n",
    "merged2 = merged.merge(dispenses, on = ['County Code', 'Year'], how = 'left')\n",
    "merged3 = merged2.merge(eth_age3, on = ['County Code', 'Year'], how = 'left')"
   ]
  },
  {
   "cell_type": "code",
   "execution_count": 7,
   "id": "e54796c2",
   "metadata": {},
   "outputs": [],
   "source": [
    "northeast = ['Connecticut', 'Maine', 'Massachusetts', 'New Hampshire', 'Rhode Island', 'Vermont', 'New Jersey', 'New York', 'Pennsylvania']\n",
    "midwest = ['Illinois', 'Indiana', 'Michigan', 'Ohio', 'Wisconsin', 'Iowa', 'Kansas', 'Minnesota', 'Missouri', 'Nebraska', 'North Dakota', 'South Dakota']\n",
    "south = ['Delaware', 'Florida', 'Georgia', 'Maryland', 'North Carolina', 'South Carolina', 'Virginia', 'Washington, D.C.', 'West Virginia', 'Alabama', 'Kentucky', 'Mississippi', 'Tennessee', 'Arkansas', 'Louisiana', 'Oklahoma', 'Texas', 'District of Co']\n",
    "west = ['Arizona', 'Colorado', 'Idaho', 'Montana', 'Nevada', 'New Mexico', 'Utah', 'Wyoming', 'Alaska', 'California', 'Hawaii', 'Oregon', 'Washington']\n",
    "merged2['Region'] = np.where(merged2['State'].isin(northeast), 'Northeast', 'none')\n",
    "merged2['Region'] = np.where(merged2['State'].isin(midwest), 'Midwest', merged2['Region'])\n",
    "merged2['Region'] = np.where(merged2['State'].isin(south), 'South', merged2['Region'])\n",
    "merged2['Region'] = np.where(merged2['State'].isin(west), 'West', merged2['Region'])"
   ]
  },
  {
   "cell_type": "code",
   "execution_count": 8,
   "id": "2b6f6149",
   "metadata": {},
   "outputs": [],
   "source": [
    "merged3.to_csv('od_deaths_merged.csv', index = False)\n",
    "merged2.to_csv('without_eth_age.csv', index = False)"
   ]
  }
 ],
 "metadata": {
  "kernelspec": {
   "display_name": "Python 3 (ipykernel)",
   "language": "python",
   "name": "python3"
  },
  "language_info": {
   "codemirror_mode": {
    "name": "ipython",
    "version": 3
   },
   "file_extension": ".py",
   "mimetype": "text/x-python",
   "name": "python",
   "nbconvert_exporter": "python",
   "pygments_lexer": "ipython3",
   "version": "3.8.3"
  }
 },
 "nbformat": 4,
 "nbformat_minor": 5
}
